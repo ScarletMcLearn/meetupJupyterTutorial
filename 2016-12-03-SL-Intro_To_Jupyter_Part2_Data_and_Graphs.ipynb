{
 "cells": [
  {
   "cell_type": "markdown",
   "metadata": {},
   "source": [
    "# Intro to Jupyter & Kickstarter data exploration \n",
    "\n",
    "XP:\n",
    "- jupyter notebook nuggets\n",
    "- pandas dataframe starter pack\n",
    "- plot some pretty graphs\n",
    "\n",
    "Main \"inspiration\" credits to: https://blog.dominodatalab.com/lesser-known-ways-of-using-notebooks/ and King's awesome tech data scientist Juan González-Vallinas.\n",
    "\n",
    "Kickstarter data: https://www.kaggle.com/socathie/kickstarter-project-statistics\n",
    "\n",
    "Plotting \"inspiration\": https://www.kaggle.com/benhamner/d/uciml/iris/python-data-visualizations\n",
    "\n",
    "If not installed, try it here: https://try.jupyter.org/\n",
    "\n",
    "*Any follow-up questions/suggestions on improvements, feel free to contact me (Sam): contradirony@gmail.com\n"
   ]
  },
  {
   "cell_type": "markdown",
   "metadata": {},
   "source": [
    "------------------------\n",
    "## 1. Jupyter notebook nuggets: how to use Jupyter - efficiently!\n",
    "\n",
    "### Still useful reference\n",
    "\n",
    "Easy reference:\n",
    "\n",
    "**General**\n",
    "\n",
    "Enter: enter edit mode\n",
    "\n",
    "Shift-Enter: run cell, select below\n",
    "\n",
    "Ctrl-Enter: run cell\n",
    "\n",
    "Alt-Enter: run cell, insert below\n",
    "\n",
    "**Command Mode (press Esc to enable)**\n",
    "\n",
    "A/B: insert cell above/below\n",
    "\n",
    "**Edit Mode (press Enter to enable)**\n",
    "\n",
    "Tab: code completion or indent\n",
    "\n",
    "Ctrl-Shift-Subtract: split cell\n"
   ]
  },
  {
   "cell_type": "markdown",
   "metadata": {},
   "source": [
    "----------------------------------\n",
    "## 2a. pandas dataframe starter pack\n",
    "\n",
    "Pandas is a high level data analysis package. This means that Pandas tries to be the only library you need for data. It has three main functions:\n",
    "\n",
    "1. Reading and Writing data\n",
    "2. Manipulating data\n",
    "3. Plotting data\n",
    "\n",
    "It is *desirable* also that you get acquainted with the main libraries behind the pandas 3 functions:\n",
    "\n",
    "1. Reading and Writing: [SQLAlchemy](http://www.sqlalchemy.org/library.html#tutorials)\n",
    "2. Crunching: [Numpy](https://docs.scipy.org/doc/numpy-dev/user/quickstart.html), [numexpr](https://github.com/pydata/numexpr/wiki/Numexpr-Users-Guide)\n",
    "3. Plotting: [matplotlib](http://www.labri.fr/perso/nrougier/teaching/matplotlib/)\n",
    "\n",
    "Links above are for some tutorials. Check them out later if you want to learn more in detail how to do these things or if you want to understand what Pandas does under the hood. Note that in order to be proficient using Pandas, you **need** to be have a good *foundation* in:\n",
    "\n",
    "- Basic python collections: `list`, `dict`, a bit of list comprehensions and basic control flows (`for` and `if`). This [tutorial](https://docs.python.org/3/tutorial/datastructures.html) contains all this and more.\n",
    "- Python built-in functions. The ones I use the most are `len`, `range`, `enumerate`, `type`, type casting (`int`, `str`, `float`...) and `enumerate`. Full list [here](https://docs.python.org/3/library/functions.html)\n",
    "- Python functional programming with `lambda`\n",
    "- Understanding of `numpy.array`\n",
    "\n",
    "\n",
    "**<span style=\"color:blue\">However, no need to fear - this tutorial will give you the experience to get motivated!</span>**\n",
    "### Import and basic manipulation"
   ]
  },
  {
   "cell_type": "code",
   "execution_count": 1,
   "metadata": {
    "collapsed": true
   },
   "outputs": [],
   "source": [
    "import pandas as pd\n",
    "import numpy as np"
   ]
  },
  {
   "cell_type": "markdown",
   "metadata": {},
   "source": [
    "Most fundamental concept is the dataframe, let's create some"
   ]
  },
  {
   "cell_type": "code",
   "execution_count": 2,
   "metadata": {
    "collapsed": false,
    "scrolled": true
   },
   "outputs": [
    {
     "data": {
      "text/plain": [
       "[['a', 20, 30, 40], [10, 20, 'n', 40]]"
      ]
     },
     "execution_count": 2,
     "metadata": {},
     "output_type": "execute_result"
    }
   ],
   "source": [
    "my_list = [[\"a\",20,30,40], [10,20,\"n\",40]]\n",
    "my_list"
   ]
  },
  {
   "cell_type": "code",
   "execution_count": 3,
   "metadata": {
    "collapsed": false
   },
   "outputs": [
    {
     "data": {
      "text/html": [
       "<div>\n",
       "<table border=\"1\" class=\"dataframe\">\n",
       "  <thead>\n",
       "    <tr style=\"text-align: right;\">\n",
       "      <th></th>\n",
       "      <th>0</th>\n",
       "      <th>1</th>\n",
       "      <th>2</th>\n",
       "      <th>3</th>\n",
       "    </tr>\n",
       "  </thead>\n",
       "  <tbody>\n",
       "    <tr>\n",
       "      <th>0</th>\n",
       "      <td>a</td>\n",
       "      <td>20</td>\n",
       "      <td>30</td>\n",
       "      <td>40</td>\n",
       "    </tr>\n",
       "    <tr>\n",
       "      <th>1</th>\n",
       "      <td>10</td>\n",
       "      <td>20</td>\n",
       "      <td>n</td>\n",
       "      <td>40</td>\n",
       "    </tr>\n",
       "  </tbody>\n",
       "</table>\n",
       "</div>"
      ],
      "text/plain": [
       "    0   1   2   3\n",
       "0   a  20  30  40\n",
       "1  10  20   n  40"
      ]
     },
     "execution_count": 3,
     "metadata": {},
     "output_type": "execute_result"
    }
   ],
   "source": [
    "pd.DataFrame(my_list)"
   ]
  },
  {
   "cell_type": "code",
   "execution_count": 4,
   "metadata": {
    "collapsed": false
   },
   "outputs": [
    {
     "data": {
      "text/html": [
       "<div>\n",
       "<table border=\"1\" class=\"dataframe\">\n",
       "  <thead>\n",
       "    <tr style=\"text-align: right;\">\n",
       "      <th></th>\n",
       "      <th>a</th>\n",
       "      <th>b</th>\n",
       "    </tr>\n",
       "  </thead>\n",
       "  <tbody>\n",
       "    <tr>\n",
       "      <th>0</th>\n",
       "      <td>0.182417</td>\n",
       "      <td>-2.942499</td>\n",
       "    </tr>\n",
       "    <tr>\n",
       "      <th>1</th>\n",
       "      <td>-0.358456</td>\n",
       "      <td>1.765524</td>\n",
       "    </tr>\n",
       "    <tr>\n",
       "      <th>2</th>\n",
       "      <td>-2.226781</td>\n",
       "      <td>2.956730</td>\n",
       "    </tr>\n",
       "    <tr>\n",
       "      <th>3</th>\n",
       "      <td>0.881336</td>\n",
       "      <td>-0.849664</td>\n",
       "    </tr>\n",
       "    <tr>\n",
       "      <th>4</th>\n",
       "      <td>0.997367</td>\n",
       "      <td>0.960422</td>\n",
       "    </tr>\n",
       "    <tr>\n",
       "      <th>5</th>\n",
       "      <td>1.056445</td>\n",
       "      <td>0.254378</td>\n",
       "    </tr>\n",
       "    <tr>\n",
       "      <th>6</th>\n",
       "      <td>0.555815</td>\n",
       "      <td>-0.608434</td>\n",
       "    </tr>\n",
       "    <tr>\n",
       "      <th>7</th>\n",
       "      <td>0.967010</td>\n",
       "      <td>-0.973461</td>\n",
       "    </tr>\n",
       "    <tr>\n",
       "      <th>8</th>\n",
       "      <td>1.597489</td>\n",
       "      <td>-0.061775</td>\n",
       "    </tr>\n",
       "    <tr>\n",
       "      <th>9</th>\n",
       "      <td>1.282431</td>\n",
       "      <td>1.406903</td>\n",
       "    </tr>\n",
       "  </tbody>\n",
       "</table>\n",
       "</div>"
      ],
      "text/plain": [
       "          a         b\n",
       "0  0.182417 -2.942499\n",
       "1 -0.358456  1.765524\n",
       "2 -2.226781  2.956730\n",
       "3  0.881336 -0.849664\n",
       "4  0.997367  0.960422\n",
       "5  1.056445  0.254378\n",
       "6  0.555815 -0.608434\n",
       "7  0.967010 -0.973461\n",
       "8  1.597489 -0.061775\n",
       "9  1.282431  1.406903"
      ]
     },
     "execution_count": 4,
     "metadata": {},
     "output_type": "execute_result"
    }
   ],
   "source": [
    "my_df=pd.DataFrame({\"a\":np.random.normal(size=10), \"b\": np.random.normal(size=10)})\n",
    "my_df"
   ]
  },
  {
   "cell_type": "code",
   "execution_count": 5,
   "metadata": {
    "collapsed": false
   },
   "outputs": [
    {
     "data": {
      "text/plain": [
       "pandas.core.frame.DataFrame"
      ]
     },
     "execution_count": 5,
     "metadata": {},
     "output_type": "execute_result"
    }
   ],
   "source": [
    "type(my_df)"
   ]
  },
  {
   "cell_type": "markdown",
   "metadata": {},
   "source": [
    "Writing and Reading dataframes"
   ]
  },
  {
   "cell_type": "code",
   "execution_count": 6,
   "metadata": {
    "collapsed": true
   },
   "outputs": [],
   "source": [
    "# Write our glorious df\n",
    "my_df.to_csv(\"datasets/pandas_tutorial.csv\") \n",
    "# my_df.to_excel(\"pandas_tutorial.xls\")\n",
    "my_df.to_json(\"datasets/pandas_tutorial.json\")"
   ]
  },
  {
   "cell_type": "code",
   "execution_count": 7,
   "metadata": {
    "collapsed": false
   },
   "outputs": [],
   "source": [
    "# read it back\n",
    "df_from_csv = pd.read_csv(\"datasets/pandas_tutorial.csv\") \n",
    "# df_from_excel = pd.read_excel(\"pandas_tutorial.xls\") #eww...\n",
    "df_from_json = pd.read_json(\"datasets/pandas_tutorial.json\") "
   ]
  },
  {
   "cell_type": "code",
   "execution_count": 8,
   "metadata": {
    "collapsed": false
   },
   "outputs": [
    {
     "data": {
      "text/html": [
       "<div>\n",
       "<table border=\"1\" class=\"dataframe\">\n",
       "  <thead>\n",
       "    <tr style=\"text-align: right;\">\n",
       "      <th></th>\n",
       "      <th>a</th>\n",
       "      <th>b</th>\n",
       "    </tr>\n",
       "  </thead>\n",
       "  <tbody>\n",
       "    <tr>\n",
       "      <th>0</th>\n",
       "      <td>0.182417</td>\n",
       "      <td>-2.942499</td>\n",
       "    </tr>\n",
       "    <tr>\n",
       "      <th>1</th>\n",
       "      <td>-0.358456</td>\n",
       "      <td>1.765524</td>\n",
       "    </tr>\n",
       "    <tr>\n",
       "      <th>2</th>\n",
       "      <td>-2.226781</td>\n",
       "      <td>2.956730</td>\n",
       "    </tr>\n",
       "    <tr>\n",
       "      <th>3</th>\n",
       "      <td>0.881336</td>\n",
       "      <td>-0.849664</td>\n",
       "    </tr>\n",
       "    <tr>\n",
       "      <th>4</th>\n",
       "      <td>0.997367</td>\n",
       "      <td>0.960422</td>\n",
       "    </tr>\n",
       "  </tbody>\n",
       "</table>\n",
       "</div>"
      ],
      "text/plain": [
       "          a         b\n",
       "0  0.182417 -2.942499\n",
       "1 -0.358456  1.765524\n",
       "2 -2.226781  2.956730\n",
       "3  0.881336 -0.849664\n",
       "4  0.997367  0.960422"
      ]
     },
     "execution_count": 8,
     "metadata": {},
     "output_type": "execute_result"
    }
   ],
   "source": [
    "df_from_json.head()"
   ]
  },
  {
   "cell_type": "markdown",
   "metadata": {},
   "source": [
    "### <span style=\"color:red\">Help?</span>"
   ]
  },
  {
   "cell_type": "code",
   "execution_count": 9,
   "metadata": {
    "collapsed": true
   },
   "outputs": [],
   "source": [
    "# execute me!\n",
    "my_df.head?"
   ]
  },
  {
   "cell_type": "code",
   "execution_count": 10,
   "metadata": {
    "collapsed": true
   },
   "outputs": [],
   "source": [
    "# with 2 question marks, you get to see the code\n",
    "my_df.head??"
   ]
  },
  {
   "cell_type": "markdown",
   "metadata": {},
   "source": [
    "### Real Data Time"
   ]
  },
  {
   "cell_type": "code",
   "execution_count": 11,
   "metadata": {
    "collapsed": false
   },
   "outputs": [],
   "source": [
    "ksdata= pd.read_csv('datasets/most_backed_kickstarter.csv', index_col=0) # index_col=0 is to not include row number"
   ]
  },
  {
   "cell_type": "code",
   "execution_count": 12,
   "metadata": {
    "collapsed": false
   },
   "outputs": [
    {
     "data": {
      "text/plain": [
       "(4000, 12)"
      ]
     },
     "execution_count": 12,
     "metadata": {},
     "output_type": "execute_result"
    }
   ],
   "source": [
    "ksdata.shape"
   ]
  },
  {
   "cell_type": "code",
   "execution_count": 13,
   "metadata": {
    "collapsed": false,
    "scrolled": true
   },
   "outputs": [
    {
     "data": {
      "text/html": [
       "<div>\n",
       "<table border=\"1\" class=\"dataframe\">\n",
       "  <thead>\n",
       "    <tr style=\"text-align: right;\">\n",
       "      <th></th>\n",
       "      <th>amt.pledged</th>\n",
       "      <th>blurb</th>\n",
       "      <th>by</th>\n",
       "      <th>category</th>\n",
       "      <th>currency</th>\n",
       "      <th>goal</th>\n",
       "      <th>location</th>\n",
       "      <th>num.backers</th>\n",
       "      <th>num.backers.tier</th>\n",
       "      <th>pledge.tier</th>\n",
       "      <th>title</th>\n",
       "      <th>url</th>\n",
       "    </tr>\n",
       "  </thead>\n",
       "  <tbody>\n",
       "    <tr>\n",
       "      <th>0</th>\n",
       "      <td>8782571</td>\n",
       "      <td>\\nThis is a card game for people who are into ...</td>\n",
       "      <td>Elan Lee</td>\n",
       "      <td>Tabletop Games</td>\n",
       "      <td>usd</td>\n",
       "      <td>10000</td>\n",
       "      <td>Los Angeles, CA</td>\n",
       "      <td>219382</td>\n",
       "      <td>[15505, 202934, 200, 5]</td>\n",
       "      <td>[20.0, 35.0, 100.0, 500.0]</td>\n",
       "      <td>Exploding Kittens</td>\n",
       "      <td>/projects/elanlee/exploding-kittens</td>\n",
       "    </tr>\n",
       "    <tr>\n",
       "      <th>1</th>\n",
       "      <td>6465690</td>\n",
       "      <td>\\nAn unusually addicting, high-quality desk to...</td>\n",
       "      <td>Matthew and Mark McLachlan</td>\n",
       "      <td>Product Design</td>\n",
       "      <td>usd</td>\n",
       "      <td>15000</td>\n",
       "      <td>Denver, CO</td>\n",
       "      <td>154926</td>\n",
       "      <td>[788, 250, 43073, 21796, 41727, 21627, 12215, ...</td>\n",
       "      <td>[1.0, 14.0, 19.0, 19.0, 35.0, 35.0, 79.0, 79.0...</td>\n",
       "      <td>Fidget Cube: A Vinyl Desk Toy</td>\n",
       "      <td>/projects/antsylabs/fidget-cube-a-vinyl-desk-toy</td>\n",
       "    </tr>\n",
       "    <tr>\n",
       "      <th>2</th>\n",
       "      <td>5408916</td>\n",
       "      <td>\\nBring Reading Rainbow’s library of interacti...</td>\n",
       "      <td>LeVar Burton &amp; Reading Rainbow</td>\n",
       "      <td>Web</td>\n",
       "      <td>usd</td>\n",
       "      <td>1000000</td>\n",
       "      <td>Los Angeles, CA</td>\n",
       "      <td>105857</td>\n",
       "      <td>[19639, 14343, 9136, 2259, 5666, 24512, 4957, ...</td>\n",
       "      <td>[5.0, 10.0, 25.0, 30.0, 35.0, 50.0, 75.0, 100....</td>\n",
       "      <td>Bring Reading Rainbow Back for Every Child, Ev...</td>\n",
       "      <td>/projects/readingrainbow/bring-reading-rainbow...</td>\n",
       "    </tr>\n",
       "  </tbody>\n",
       "</table>\n",
       "</div>"
      ],
      "text/plain": [
       "   amt.pledged                                              blurb  \\\n",
       "0      8782571  \\nThis is a card game for people who are into ...   \n",
       "1      6465690  \\nAn unusually addicting, high-quality desk to...   \n",
       "2      5408916  \\nBring Reading Rainbow’s library of interacti...   \n",
       "\n",
       "                               by        category currency     goal  \\\n",
       "0                        Elan Lee  Tabletop Games      usd    10000   \n",
       "1      Matthew and Mark McLachlan  Product Design      usd    15000   \n",
       "2  LeVar Burton & Reading Rainbow             Web      usd  1000000   \n",
       "\n",
       "          location  num.backers  \\\n",
       "0  Los Angeles, CA       219382   \n",
       "1       Denver, CO       154926   \n",
       "2  Los Angeles, CA       105857   \n",
       "\n",
       "                                    num.backers.tier  \\\n",
       "0                            [15505, 202934, 200, 5]   \n",
       "1  [788, 250, 43073, 21796, 41727, 21627, 12215, ...   \n",
       "2  [19639, 14343, 9136, 2259, 5666, 24512, 4957, ...   \n",
       "\n",
       "                                         pledge.tier  \\\n",
       "0                         [20.0, 35.0, 100.0, 500.0]   \n",
       "1  [1.0, 14.0, 19.0, 19.0, 35.0, 35.0, 79.0, 79.0...   \n",
       "2  [5.0, 10.0, 25.0, 30.0, 35.0, 50.0, 75.0, 100....   \n",
       "\n",
       "                                               title  \\\n",
       "0                                  Exploding Kittens   \n",
       "1                      Fidget Cube: A Vinyl Desk Toy   \n",
       "2  Bring Reading Rainbow Back for Every Child, Ev...   \n",
       "\n",
       "                                                 url  \n",
       "0                /projects/elanlee/exploding-kittens  \n",
       "1   /projects/antsylabs/fidget-cube-a-vinyl-desk-toy  \n",
       "2  /projects/readingrainbow/bring-reading-rainbow...  "
      ]
     },
     "execution_count": 13,
     "metadata": {},
     "output_type": "execute_result"
    }
   ],
   "source": [
    "ksdata.head(3)"
   ]
  },
  {
   "cell_type": "markdown",
   "metadata": {},
   "source": [
    "### Basic slicing"
   ]
  },
  {
   "cell_type": "code",
   "execution_count": 14,
   "metadata": {
    "collapsed": false
   },
   "outputs": [
    {
     "data": {
      "text/html": [
       "<div>\n",
       "<table border=\"1\" class=\"dataframe\">\n",
       "  <thead>\n",
       "    <tr style=\"text-align: right;\">\n",
       "      <th></th>\n",
       "      <th>amt.pledged</th>\n",
       "      <th>blurb</th>\n",
       "      <th>by</th>\n",
       "      <th>category</th>\n",
       "      <th>currency</th>\n",
       "      <th>goal</th>\n",
       "      <th>location</th>\n",
       "      <th>num.backers</th>\n",
       "      <th>num.backers.tier</th>\n",
       "      <th>pledge.tier</th>\n",
       "      <th>title</th>\n",
       "      <th>url</th>\n",
       "    </tr>\n",
       "  </thead>\n",
       "  <tbody>\n",
       "    <tr>\n",
       "      <th>12</th>\n",
       "      <td>3845170</td>\n",
       "      <td>\\nClassic Japanese side-scrolling action, evol...</td>\n",
       "      <td>comcept USA, LLC</td>\n",
       "      <td>Video Games</td>\n",
       "      <td>usd</td>\n",
       "      <td>900000</td>\n",
       "      <td>Tokyo, Japan</td>\n",
       "      <td>67226</td>\n",
       "      <td>[2438, 34059, 6445, 7289, 4472, 1716, 3593, 22...</td>\n",
       "      <td>[5.0, 20.0, 40.0, 60.0, 60.0, 80.0, 99.0, 120....</td>\n",
       "      <td>Mighty No. 9</td>\n",
       "      <td>/projects/mightyno9/mighty-no-9</td>\n",
       "    </tr>\n",
       "    <tr>\n",
       "      <th>13</th>\n",
       "      <td>12779843</td>\n",
       "      <td>\\nTwo affordable, heart rate-enabled smartwatc...</td>\n",
       "      <td>Pebble Technology</td>\n",
       "      <td>Product Design</td>\n",
       "      <td>usd</td>\n",
       "      <td>1000000</td>\n",
       "      <td>Redwood City, CA</td>\n",
       "      <td>66673</td>\n",
       "      <td>[5000, 2798, 8546, 234, 679, 9996, 2042, 13446...</td>\n",
       "      <td>[69.0, 79.0, 99.0, 109.0, 149.0, 169.0, 169.0,...</td>\n",
       "      <td>Pebble 2, Time 2 + All-New Pebble Core</td>\n",
       "      <td>/projects/597507018/pebble-2-time-2-and-core-a...</td>\n",
       "    </tr>\n",
       "    <tr>\n",
       "      <th>14</th>\n",
       "      <td>5545991</td>\n",
       "      <td>\\nIGAVANIA (n): A gothic, exploration-focused ...</td>\n",
       "      <td>Koji Igarashi</td>\n",
       "      <td>Video Games</td>\n",
       "      <td>usd</td>\n",
       "      <td>500000</td>\n",
       "      <td>Tokyo, Japan</td>\n",
       "      <td>64867</td>\n",
       "      <td>[913, 20155, 16450, 6569, 8799, 3085, 2920, 14...</td>\n",
       "      <td>[5.0, 28.0, 60.0, 60.0, 100.0, 125.0, 150.0, 1...</td>\n",
       "      <td>Bloodstained: Ritual of the Night</td>\n",
       "      <td>/projects/iga/bloodstained-ritual-of-the-night</td>\n",
       "    </tr>\n",
       "    <tr>\n",
       "      <th>15</th>\n",
       "      <td>3246588</td>\n",
       "      <td>\\nFrom the creators of Cyanide &amp; Happiness com...</td>\n",
       "      <td>Cyanide And Happiness</td>\n",
       "      <td>Tabletop Games</td>\n",
       "      <td>usd</td>\n",
       "      <td>10000</td>\n",
       "      <td>Dallas, TX</td>\n",
       "      <td>63758</td>\n",
       "      <td>[435, 6491, 26903, 18140, 7395, 1841, 1279, 1,...</td>\n",
       "      <td>[1.0, 25.0, 35.0, 45.0, 60.0, 75.0, 100.0, 102...</td>\n",
       "      <td>Joking Hazard</td>\n",
       "      <td>/projects/cyanideandhappiness/joking-hazard</td>\n",
       "    </tr>\n",
       "  </tbody>\n",
       "</table>\n",
       "</div>"
      ],
      "text/plain": [
       "    amt.pledged                                              blurb  \\\n",
       "12      3845170  \\nClassic Japanese side-scrolling action, evol...   \n",
       "13     12779843  \\nTwo affordable, heart rate-enabled smartwatc...   \n",
       "14      5545991  \\nIGAVANIA (n): A gothic, exploration-focused ...   \n",
       "15      3246588  \\nFrom the creators of Cyanide & Happiness com...   \n",
       "\n",
       "                       by        category currency     goal          location  \\\n",
       "12       comcept USA, LLC     Video Games      usd   900000      Tokyo, Japan   \n",
       "13      Pebble Technology  Product Design      usd  1000000  Redwood City, CA   \n",
       "14          Koji Igarashi     Video Games      usd   500000      Tokyo, Japan   \n",
       "15  Cyanide And Happiness  Tabletop Games      usd    10000        Dallas, TX   \n",
       "\n",
       "    num.backers                                   num.backers.tier  \\\n",
       "12        67226  [2438, 34059, 6445, 7289, 4472, 1716, 3593, 22...   \n",
       "13        66673  [5000, 2798, 8546, 234, 679, 9996, 2042, 13446...   \n",
       "14        64867  [913, 20155, 16450, 6569, 8799, 3085, 2920, 14...   \n",
       "15        63758  [435, 6491, 26903, 18140, 7395, 1841, 1279, 1,...   \n",
       "\n",
       "                                          pledge.tier  \\\n",
       "12  [5.0, 20.0, 40.0, 60.0, 60.0, 80.0, 99.0, 120....   \n",
       "13  [69.0, 79.0, 99.0, 109.0, 149.0, 169.0, 169.0,...   \n",
       "14  [5.0, 28.0, 60.0, 60.0, 100.0, 125.0, 150.0, 1...   \n",
       "15  [1.0, 25.0, 35.0, 45.0, 60.0, 75.0, 100.0, 102...   \n",
       "\n",
       "                                     title  \\\n",
       "12                            Mighty No. 9   \n",
       "13  Pebble 2, Time 2 + All-New Pebble Core   \n",
       "14       Bloodstained: Ritual of the Night   \n",
       "15                           Joking Hazard   \n",
       "\n",
       "                                                  url  \n",
       "12                    /projects/mightyno9/mighty-no-9  \n",
       "13  /projects/597507018/pebble-2-time-2-and-core-a...  \n",
       "14     /projects/iga/bloodstained-ritual-of-the-night  \n",
       "15        /projects/cyanideandhappiness/joking-hazard  "
      ]
     },
     "execution_count": 14,
     "metadata": {},
     "output_type": "execute_result"
    }
   ],
   "source": [
    "ksdata[12:16]"
   ]
  },
  {
   "cell_type": "code",
   "execution_count": 15,
   "metadata": {
    "collapsed": false
   },
   "outputs": [
    {
     "data": {
      "text/plain": [
       "0    Tabletop Games\n",
       "1    Product Design\n",
       "2               Web\n",
       "3    Narrative Film\n",
       "4       Video Games\n",
       "Name: category, dtype: object"
      ]
     },
     "execution_count": 15,
     "metadata": {},
     "output_type": "execute_result"
    }
   ],
   "source": [
    "ksdata[\"category\"].head()"
   ]
  },
  {
   "cell_type": "code",
   "execution_count": 16,
   "metadata": {
    "collapsed": false
   },
   "outputs": [
    {
     "data": {
      "text/plain": [
       "pandas.core.series.Series"
      ]
     },
     "execution_count": 16,
     "metadata": {},
     "output_type": "execute_result"
    }
   ],
   "source": [
    "type(ksdata[\"category\"])"
   ]
  },
  {
   "cell_type": "markdown",
   "metadata": {},
   "source": [
    "You can pass multiple rows on a list as a key, and you get a `pd.DataFrame` back"
   ]
  },
  {
   "cell_type": "code",
   "execution_count": 17,
   "metadata": {
    "collapsed": false
   },
   "outputs": [
    {
     "data": {
      "text/html": [
       "<div>\n",
       "<table border=\"1\" class=\"dataframe\">\n",
       "  <thead>\n",
       "    <tr style=\"text-align: right;\">\n",
       "      <th></th>\n",
       "      <th>category</th>\n",
       "      <th>goal</th>\n",
       "    </tr>\n",
       "  </thead>\n",
       "  <tbody>\n",
       "    <tr>\n",
       "      <th>0</th>\n",
       "      <td>Tabletop Games</td>\n",
       "      <td>10000</td>\n",
       "    </tr>\n",
       "    <tr>\n",
       "      <th>1</th>\n",
       "      <td>Product Design</td>\n",
       "      <td>15000</td>\n",
       "    </tr>\n",
       "    <tr>\n",
       "      <th>2</th>\n",
       "      <td>Web</td>\n",
       "      <td>1000000</td>\n",
       "    </tr>\n",
       "    <tr>\n",
       "      <th>3</th>\n",
       "      <td>Narrative Film</td>\n",
       "      <td>2000000</td>\n",
       "    </tr>\n",
       "    <tr>\n",
       "      <th>4</th>\n",
       "      <td>Video Games</td>\n",
       "      <td>400000</td>\n",
       "    </tr>\n",
       "  </tbody>\n",
       "</table>\n",
       "</div>"
      ],
      "text/plain": [
       "         category     goal\n",
       "0  Tabletop Games    10000\n",
       "1  Product Design    15000\n",
       "2             Web  1000000\n",
       "3  Narrative Film  2000000\n",
       "4     Video Games   400000"
      ]
     },
     "execution_count": 17,
     "metadata": {},
     "output_type": "execute_result"
    }
   ],
   "source": [
    "my_keys = [\"category\", \"goal\"]\n",
    "ksdata[my_keys].head()"
   ]
  },
  {
   "cell_type": "markdown",
   "metadata": {},
   "source": [
    "Which can be compacted as:"
   ]
  },
  {
   "cell_type": "code",
   "execution_count": 18,
   "metadata": {
    "collapsed": false,
    "scrolled": true
   },
   "outputs": [
    {
     "data": {
      "text/html": [
       "<div>\n",
       "<table border=\"1\" class=\"dataframe\">\n",
       "  <thead>\n",
       "    <tr style=\"text-align: right;\">\n",
       "      <th></th>\n",
       "      <th>category</th>\n",
       "      <th>goal</th>\n",
       "    </tr>\n",
       "  </thead>\n",
       "  <tbody>\n",
       "    <tr>\n",
       "      <th>0</th>\n",
       "      <td>Tabletop Games</td>\n",
       "      <td>10000</td>\n",
       "    </tr>\n",
       "    <tr>\n",
       "      <th>1</th>\n",
       "      <td>Product Design</td>\n",
       "      <td>15000</td>\n",
       "    </tr>\n",
       "    <tr>\n",
       "      <th>2</th>\n",
       "      <td>Web</td>\n",
       "      <td>1000000</td>\n",
       "    </tr>\n",
       "    <tr>\n",
       "      <th>3</th>\n",
       "      <td>Narrative Film</td>\n",
       "      <td>2000000</td>\n",
       "    </tr>\n",
       "    <tr>\n",
       "      <th>4</th>\n",
       "      <td>Video Games</td>\n",
       "      <td>400000</td>\n",
       "    </tr>\n",
       "  </tbody>\n",
       "</table>\n",
       "</div>"
      ],
      "text/plain": [
       "         category     goal\n",
       "0  Tabletop Games    10000\n",
       "1  Product Design    15000\n",
       "2             Web  1000000\n",
       "3  Narrative Film  2000000\n",
       "4     Video Games   400000"
      ]
     },
     "execution_count": 18,
     "metadata": {},
     "output_type": "execute_result"
    }
   ],
   "source": [
    "ksdata[[\"category\", \"goal\"]].head()"
   ]
  },
  {
   "cell_type": "markdown",
   "metadata": {},
   "source": [
    "The difference?"
   ]
  },
  {
   "cell_type": "code",
   "execution_count": 19,
   "metadata": {
    "collapsed": false
   },
   "outputs": [
    {
     "data": {
      "text/plain": [
       "pandas.core.series.Series"
      ]
     },
     "execution_count": 19,
     "metadata": {},
     "output_type": "execute_result"
    }
   ],
   "source": [
    "type(ksdata[\"category\"].head())"
   ]
  },
  {
   "cell_type": "code",
   "execution_count": 20,
   "metadata": {
    "collapsed": false
   },
   "outputs": [
    {
     "data": {
      "text/plain": [
       "pandas.core.frame.DataFrame"
      ]
     },
     "execution_count": 20,
     "metadata": {},
     "output_type": "execute_result"
    }
   ],
   "source": [
    "type(ksdata[[\"category\"]].head())"
   ]
  },
  {
   "cell_type": "markdown",
   "metadata": {},
   "source": [
    "Mainly that `[]` can only take one column name and converts it into a series, whereas `[[]]` can take multiple columns and the type remains a dataframe.\n",
    "`pd.DataFrame` is prettier than `pd.Series` in notebooks. Many functions overlap, but are not exactly the same."
   ]
  },
  {
   "cell_type": "markdown",
   "metadata": {},
   "source": [
    "### Let's Start Exploring"
   ]
  },
  {
   "cell_type": "code",
   "execution_count": 21,
   "metadata": {
    "collapsed": false
   },
   "outputs": [
    {
     "data": {
      "text/html": [
       "<div>\n",
       "<table border=\"1\" class=\"dataframe\">\n",
       "  <thead>\n",
       "    <tr style=\"text-align: right;\">\n",
       "      <th></th>\n",
       "      <th>amt.pledged</th>\n",
       "      <th>blurb</th>\n",
       "      <th>by</th>\n",
       "      <th>category</th>\n",
       "      <th>currency</th>\n",
       "      <th>goal</th>\n",
       "      <th>location</th>\n",
       "      <th>num.backers</th>\n",
       "      <th>num.backers.tier</th>\n",
       "      <th>pledge.tier</th>\n",
       "      <th>title</th>\n",
       "      <th>url</th>\n",
       "    </tr>\n",
       "  </thead>\n",
       "  <tbody>\n",
       "    <tr>\n",
       "      <th>0</th>\n",
       "      <td>8782571</td>\n",
       "      <td>\\nThis is a card game for people who are into ...</td>\n",
       "      <td>Elan Lee</td>\n",
       "      <td>Tabletop Games</td>\n",
       "      <td>usd</td>\n",
       "      <td>10000</td>\n",
       "      <td>Los Angeles, CA</td>\n",
       "      <td>219382</td>\n",
       "      <td>[15505, 202934, 200, 5]</td>\n",
       "      <td>[20.0, 35.0, 100.0, 500.0]</td>\n",
       "      <td>Exploding Kittens</td>\n",
       "      <td>/projects/elanlee/exploding-kittens</td>\n",
       "    </tr>\n",
       "    <tr>\n",
       "      <th>1</th>\n",
       "      <td>6465690</td>\n",
       "      <td>\\nAn unusually addicting, high-quality desk to...</td>\n",
       "      <td>Matthew and Mark McLachlan</td>\n",
       "      <td>Product Design</td>\n",
       "      <td>usd</td>\n",
       "      <td>15000</td>\n",
       "      <td>Denver, CO</td>\n",
       "      <td>154926</td>\n",
       "      <td>[788, 250, 43073, 21796, 41727, 21627, 12215, ...</td>\n",
       "      <td>[1.0, 14.0, 19.0, 19.0, 35.0, 35.0, 79.0, 79.0...</td>\n",
       "      <td>Fidget Cube: A Vinyl Desk Toy</td>\n",
       "      <td>/projects/antsylabs/fidget-cube-a-vinyl-desk-toy</td>\n",
       "    </tr>\n",
       "    <tr>\n",
       "      <th>2</th>\n",
       "      <td>5408916</td>\n",
       "      <td>\\nBring Reading Rainbow’s library of interacti...</td>\n",
       "      <td>LeVar Burton &amp; Reading Rainbow</td>\n",
       "      <td>Web</td>\n",
       "      <td>usd</td>\n",
       "      <td>1000000</td>\n",
       "      <td>Los Angeles, CA</td>\n",
       "      <td>105857</td>\n",
       "      <td>[19639, 14343, 9136, 2259, 5666, 24512, 4957, ...</td>\n",
       "      <td>[5.0, 10.0, 25.0, 30.0, 35.0, 50.0, 75.0, 100....</td>\n",
       "      <td>Bring Reading Rainbow Back for Every Child, Ev...</td>\n",
       "      <td>/projects/readingrainbow/bring-reading-rainbow...</td>\n",
       "    </tr>\n",
       "    <tr>\n",
       "      <th>3</th>\n",
       "      <td>5702153</td>\n",
       "      <td>\\nUPDATED: This is it. We're making a Veronica...</td>\n",
       "      <td>Rob Thomas</td>\n",
       "      <td>Narrative Film</td>\n",
       "      <td>usd</td>\n",
       "      <td>2000000</td>\n",
       "      <td>San Diego, CA</td>\n",
       "      <td>91585</td>\n",
       "      <td>[5938, 8423, 11509, 22997, 23227, 1865, 7260, ...</td>\n",
       "      <td>[1.0, 10.0, 25.0, 35.0, 50.0, 75.0, 100.0, 150...</td>\n",
       "      <td>The Veronica Mars Movie Project</td>\n",
       "      <td>/projects/559914737/the-veronica-mars-movie-pr...</td>\n",
       "    </tr>\n",
       "    <tr>\n",
       "      <th>4</th>\n",
       "      <td>3336371</td>\n",
       "      <td>\\nAn adventure game from Tim Schafer, Double F...</td>\n",
       "      <td>Double Fine and 2 Player Productions</td>\n",
       "      <td>Video Games</td>\n",
       "      <td>usd</td>\n",
       "      <td>400000</td>\n",
       "      <td>San Francisco, CA</td>\n",
       "      <td>87142</td>\n",
       "      <td>[47946, 24636, 1090, 11530, 900, 148, 100, 10, 4]</td>\n",
       "      <td>[15.0, 30.0, 60.0, 100.0, 250.0, 500.0, 1000.0...</td>\n",
       "      <td>Double Fine Adventure</td>\n",
       "      <td>/projects/doublefine/double-fine-adventure</td>\n",
       "    </tr>\n",
       "  </tbody>\n",
       "</table>\n",
       "</div>"
      ],
      "text/plain": [
       "   amt.pledged                                              blurb  \\\n",
       "0      8782571  \\nThis is a card game for people who are into ...   \n",
       "1      6465690  \\nAn unusually addicting, high-quality desk to...   \n",
       "2      5408916  \\nBring Reading Rainbow’s library of interacti...   \n",
       "3      5702153  \\nUPDATED: This is it. We're making a Veronica...   \n",
       "4      3336371  \\nAn adventure game from Tim Schafer, Double F...   \n",
       "\n",
       "                                     by        category currency     goal  \\\n",
       "0                              Elan Lee  Tabletop Games      usd    10000   \n",
       "1            Matthew and Mark McLachlan  Product Design      usd    15000   \n",
       "2        LeVar Burton & Reading Rainbow             Web      usd  1000000   \n",
       "3                            Rob Thomas  Narrative Film      usd  2000000   \n",
       "4  Double Fine and 2 Player Productions     Video Games      usd   400000   \n",
       "\n",
       "            location  num.backers  \\\n",
       "0    Los Angeles, CA       219382   \n",
       "1         Denver, CO       154926   \n",
       "2    Los Angeles, CA       105857   \n",
       "3      San Diego, CA        91585   \n",
       "4  San Francisco, CA        87142   \n",
       "\n",
       "                                    num.backers.tier  \\\n",
       "0                            [15505, 202934, 200, 5]   \n",
       "1  [788, 250, 43073, 21796, 41727, 21627, 12215, ...   \n",
       "2  [19639, 14343, 9136, 2259, 5666, 24512, 4957, ...   \n",
       "3  [5938, 8423, 11509, 22997, 23227, 1865, 7260, ...   \n",
       "4  [47946, 24636, 1090, 11530, 900, 148, 100, 10, 4]   \n",
       "\n",
       "                                         pledge.tier  \\\n",
       "0                         [20.0, 35.0, 100.0, 500.0]   \n",
       "1  [1.0, 14.0, 19.0, 19.0, 35.0, 35.0, 79.0, 79.0...   \n",
       "2  [5.0, 10.0, 25.0, 30.0, 35.0, 50.0, 75.0, 100....   \n",
       "3  [1.0, 10.0, 25.0, 35.0, 50.0, 75.0, 100.0, 150...   \n",
       "4  [15.0, 30.0, 60.0, 100.0, 250.0, 500.0, 1000.0...   \n",
       "\n",
       "                                               title  \\\n",
       "0                                  Exploding Kittens   \n",
       "1                      Fidget Cube: A Vinyl Desk Toy   \n",
       "2  Bring Reading Rainbow Back for Every Child, Ev...   \n",
       "3                    The Veronica Mars Movie Project   \n",
       "4                              Double Fine Adventure   \n",
       "\n",
       "                                                 url  \n",
       "0                /projects/elanlee/exploding-kittens  \n",
       "1   /projects/antsylabs/fidget-cube-a-vinyl-desk-toy  \n",
       "2  /projects/readingrainbow/bring-reading-rainbow...  \n",
       "3  /projects/559914737/the-veronica-mars-movie-pr...  \n",
       "4         /projects/doublefine/double-fine-adventure  "
      ]
     },
     "execution_count": 21,
     "metadata": {},
     "output_type": "execute_result"
    }
   ],
   "source": [
    "ksdata.keys()\n",
    "ksdata.head()"
   ]
  },
  {
   "cell_type": "code",
   "execution_count": 22,
   "metadata": {
    "collapsed": false
   },
   "outputs": [
    {
     "data": {
      "text/plain": [
       "'\\nZNAPS is a magnetic adapter\\xa0specially designed\\xa0to\\xa0\\xa0seamlessly fit your\\xa0mobile devices and cables, so you can charge and sync with the peace of mind that your devices are safe and protected.\\n'"
      ]
     },
     "execution_count": 22,
     "metadata": {},
     "output_type": "execute_result"
    }
   ],
   "source": [
    "ksdata['blurb'][9]"
   ]
  },
  {
   "cell_type": "markdown",
   "metadata": {},
   "source": [
    "For numeric columns"
   ]
  },
  {
   "cell_type": "code",
   "execution_count": 23,
   "metadata": {
    "collapsed": false,
    "scrolled": true
   },
   "outputs": [
    {
     "data": {
      "text/html": [
       "<div>\n",
       "<table border=\"1\" class=\"dataframe\">\n",
       "  <thead>\n",
       "    <tr style=\"text-align: right;\">\n",
       "      <th></th>\n",
       "      <th>amt.pledged</th>\n",
       "      <th>goal</th>\n",
       "      <th>num.backers</th>\n",
       "    </tr>\n",
       "  </thead>\n",
       "  <tbody>\n",
       "    <tr>\n",
       "      <th>count</th>\n",
       "      <td>4000.000000</td>\n",
       "      <td>4000.000000</td>\n",
       "      <td>4000.000000</td>\n",
       "    </tr>\n",
       "    <tr>\n",
       "      <th>mean</th>\n",
       "      <td>289992.319250</td>\n",
       "      <td>61752.034250</td>\n",
       "      <td>3582.875750</td>\n",
       "    </tr>\n",
       "    <tr>\n",
       "      <th>std</th>\n",
       "      <td>711936.917539</td>\n",
       "      <td>126671.475596</td>\n",
       "      <td>7316.102809</td>\n",
       "    </tr>\n",
       "    <tr>\n",
       "      <th>min</th>\n",
       "      <td>1925.000000</td>\n",
       "      <td>1.000000</td>\n",
       "      <td>1109.000000</td>\n",
       "    </tr>\n",
       "    <tr>\n",
       "      <th>25%</th>\n",
       "      <td>67713.000000</td>\n",
       "      <td>13000.000000</td>\n",
       "      <td>1406.750000</td>\n",
       "    </tr>\n",
       "    <tr>\n",
       "      <th>50%</th>\n",
       "      <td>120586.000000</td>\n",
       "      <td>30000.000000</td>\n",
       "      <td>1946.000000</td>\n",
       "    </tr>\n",
       "    <tr>\n",
       "      <th>75%</th>\n",
       "      <td>259368.000000</td>\n",
       "      <td>60000.000000</td>\n",
       "      <td>3372.000000</td>\n",
       "    </tr>\n",
       "    <tr>\n",
       "      <th>max</th>\n",
       "      <td>20338986.000000</td>\n",
       "      <td>2000000.000000</td>\n",
       "      <td>219382.000000</td>\n",
       "    </tr>\n",
       "  </tbody>\n",
       "</table>\n",
       "</div>"
      ],
      "text/plain": [
       "           amt.pledged            goal    num.backers\n",
       "count      4000.000000     4000.000000    4000.000000\n",
       "mean     289992.319250    61752.034250    3582.875750\n",
       "std      711936.917539   126671.475596    7316.102809\n",
       "min        1925.000000        1.000000    1109.000000\n",
       "25%       67713.000000    13000.000000    1406.750000\n",
       "50%      120586.000000    30000.000000    1946.000000\n",
       "75%      259368.000000    60000.000000    3372.000000\n",
       "max    20338986.000000  2000000.000000  219382.000000"
      ]
     },
     "execution_count": 23,
     "metadata": {},
     "output_type": "execute_result"
    }
   ],
   "source": [
    "ksdata.describe()"
   ]
  },
  {
   "cell_type": "markdown",
   "metadata": {},
   "source": [
    "### Group by\n",
    "\n",
    "Lets assume that we want to obtain the total for each category"
   ]
  },
  {
   "cell_type": "code",
   "execution_count": 25,
   "metadata": {
    "collapsed": false
   },
   "outputs": [
    {
     "data": {
      "text/html": [
       "<div>\n",
       "<table border=\"1\" class=\"dataframe\">\n",
       "  <thead>\n",
       "    <tr style=\"text-align: right;\">\n",
       "      <th></th>\n",
       "      <th>amt.pledged</th>\n",
       "      <th>goal</th>\n",
       "      <th>num.backers</th>\n",
       "    </tr>\n",
       "    <tr>\n",
       "      <th>category</th>\n",
       "      <th></th>\n",
       "      <th></th>\n",
       "      <th></th>\n",
       "    </tr>\n",
       "  </thead>\n",
       "  <tbody>\n",
       "    <tr>\n",
       "      <th>3D Printing</th>\n",
       "      <td>17087619</td>\n",
       "      <td>1425999</td>\n",
       "      <td>78065</td>\n",
       "    </tr>\n",
       "    <tr>\n",
       "      <th>Academic</th>\n",
       "      <td>91474</td>\n",
       "      <td>75000</td>\n",
       "      <td>1461</td>\n",
       "    </tr>\n",
       "    <tr>\n",
       "      <th>Accessories</th>\n",
       "      <td>3151421</td>\n",
       "      <td>499200</td>\n",
       "      <td>61951</td>\n",
       "    </tr>\n",
       "    <tr>\n",
       "      <th>Action</th>\n",
       "      <td>630019</td>\n",
       "      <td>200000</td>\n",
       "      <td>17713</td>\n",
       "    </tr>\n",
       "    <tr>\n",
       "      <th>Animation</th>\n",
       "      <td>11349738</td>\n",
       "      <td>6369000</td>\n",
       "      <td>178891</td>\n",
       "    </tr>\n",
       "    <tr>\n",
       "      <th>Anthologies</th>\n",
       "      <td>2304845</td>\n",
       "      <td>769200</td>\n",
       "      <td>46028</td>\n",
       "    </tr>\n",
       "    <tr>\n",
       "      <th>Apparel</th>\n",
       "      <td>10387585</td>\n",
       "      <td>1097400</td>\n",
       "      <td>85561</td>\n",
       "    </tr>\n",
       "    <tr>\n",
       "      <th>Apps</th>\n",
       "      <td>1382373</td>\n",
       "      <td>393858</td>\n",
       "      <td>44019</td>\n",
       "    </tr>\n",
       "    <tr>\n",
       "      <th>Architecture</th>\n",
       "      <td>1034504</td>\n",
       "      <td>424000</td>\n",
       "      <td>7150</td>\n",
       "    </tr>\n",
       "    <tr>\n",
       "      <th>Art</th>\n",
       "      <td>5442301</td>\n",
       "      <td>1685067</td>\n",
       "      <td>41799</td>\n",
       "    </tr>\n",
       "    <tr>\n",
       "      <th>Art Books</th>\n",
       "      <td>4737943</td>\n",
       "      <td>789200</td>\n",
       "      <td>71773</td>\n",
       "    </tr>\n",
       "    <tr>\n",
       "      <th>Audio</th>\n",
       "      <td>193742</td>\n",
       "      <td>159000</td>\n",
       "      <td>3145</td>\n",
       "    </tr>\n",
       "    <tr>\n",
       "      <th>Calendars</th>\n",
       "      <td>117328</td>\n",
       "      <td>23500</td>\n",
       "      <td>2285</td>\n",
       "    </tr>\n",
       "    <tr>\n",
       "      <th>Camera Equipment</th>\n",
       "      <td>10749860</td>\n",
       "      <td>1604000</td>\n",
       "      <td>59803</td>\n",
       "    </tr>\n",
       "    <tr>\n",
       "      <th>Children's Books</th>\n",
       "      <td>2505071</td>\n",
       "      <td>384000</td>\n",
       "      <td>58688</td>\n",
       "    </tr>\n",
       "    <tr>\n",
       "      <th>Childrenswear</th>\n",
       "      <td>285755</td>\n",
       "      <td>80000</td>\n",
       "      <td>4635</td>\n",
       "    </tr>\n",
       "    <tr>\n",
       "      <th>Chiptune</th>\n",
       "      <td>455229</td>\n",
       "      <td>75000</td>\n",
       "      <td>12562</td>\n",
       "    </tr>\n",
       "    <tr>\n",
       "      <th>Civic Design</th>\n",
       "      <td>805015</td>\n",
       "      <td>691900</td>\n",
       "      <td>10407</td>\n",
       "    </tr>\n",
       "    <tr>\n",
       "      <th>Classical Music</th>\n",
       "      <td>422043</td>\n",
       "      <td>196000</td>\n",
       "      <td>9298</td>\n",
       "    </tr>\n",
       "    <tr>\n",
       "      <th>Comedy</th>\n",
       "      <td>2816273</td>\n",
       "      <td>1554985</td>\n",
       "      <td>54428</td>\n",
       "    </tr>\n",
       "    <tr>\n",
       "      <th>Comic Books</th>\n",
       "      <td>914819</td>\n",
       "      <td>282100</td>\n",
       "      <td>16186</td>\n",
       "    </tr>\n",
       "    <tr>\n",
       "      <th>Comics</th>\n",
       "      <td>11122271</td>\n",
       "      <td>2136421</td>\n",
       "      <td>211310</td>\n",
       "    </tr>\n",
       "    <tr>\n",
       "      <th>Conceptual Art</th>\n",
       "      <td>115324</td>\n",
       "      <td>80000</td>\n",
       "      <td>2782</td>\n",
       "    </tr>\n",
       "    <tr>\n",
       "      <th>Cookbooks</th>\n",
       "      <td>540540</td>\n",
       "      <td>163010</td>\n",
       "      <td>16047</td>\n",
       "    </tr>\n",
       "    <tr>\n",
       "      <th>Country &amp;amp; Folk</th>\n",
       "      <td>340644</td>\n",
       "      <td>235000</td>\n",
       "      <td>5027</td>\n",
       "    </tr>\n",
       "    <tr>\n",
       "      <th>Crafts</th>\n",
       "      <td>1017647</td>\n",
       "      <td>110000</td>\n",
       "      <td>22498</td>\n",
       "    </tr>\n",
       "    <tr>\n",
       "      <th>DIY Electronics</th>\n",
       "      <td>10922092</td>\n",
       "      <td>1002768</td>\n",
       "      <td>139711</td>\n",
       "    </tr>\n",
       "    <tr>\n",
       "      <th>Dance</th>\n",
       "      <td>146075</td>\n",
       "      <td>125000</td>\n",
       "      <td>4133</td>\n",
       "    </tr>\n",
       "    <tr>\n",
       "      <th>Design</th>\n",
       "      <td>20655212</td>\n",
       "      <td>3829758</td>\n",
       "      <td>279935</td>\n",
       "    </tr>\n",
       "    <tr>\n",
       "      <th>Digital Art</th>\n",
       "      <td>116766</td>\n",
       "      <td>9000</td>\n",
       "      <td>2766</td>\n",
       "    </tr>\n",
       "    <tr>\n",
       "      <th>...</th>\n",
       "      <td>...</td>\n",
       "      <td>...</td>\n",
       "      <td>...</td>\n",
       "    </tr>\n",
       "    <tr>\n",
       "      <th>Ready-to-wear</th>\n",
       "      <td>425452</td>\n",
       "      <td>8500</td>\n",
       "      <td>6157</td>\n",
       "    </tr>\n",
       "    <tr>\n",
       "      <th>Restaurants</th>\n",
       "      <td>903036</td>\n",
       "      <td>750000</td>\n",
       "      <td>7521</td>\n",
       "    </tr>\n",
       "    <tr>\n",
       "      <th>Robots</th>\n",
       "      <td>6256198</td>\n",
       "      <td>1450600</td>\n",
       "      <td>42547</td>\n",
       "    </tr>\n",
       "    <tr>\n",
       "      <th>Rock</th>\n",
       "      <td>1466133</td>\n",
       "      <td>490000</td>\n",
       "      <td>31859</td>\n",
       "    </tr>\n",
       "    <tr>\n",
       "      <th>Romance</th>\n",
       "      <td>121084</td>\n",
       "      <td>100000</td>\n",
       "      <td>1334</td>\n",
       "    </tr>\n",
       "    <tr>\n",
       "      <th>Science Fiction</th>\n",
       "      <td>1417423</td>\n",
       "      <td>656580</td>\n",
       "      <td>18587</td>\n",
       "    </tr>\n",
       "    <tr>\n",
       "      <th>Sculpture</th>\n",
       "      <td>2162013</td>\n",
       "      <td>210000</td>\n",
       "      <td>7138</td>\n",
       "    </tr>\n",
       "    <tr>\n",
       "      <th>Shorts</th>\n",
       "      <td>781843</td>\n",
       "      <td>501628</td>\n",
       "      <td>14138</td>\n",
       "    </tr>\n",
       "    <tr>\n",
       "      <th>Small Batch</th>\n",
       "      <td>533166</td>\n",
       "      <td>78700</td>\n",
       "      <td>11271</td>\n",
       "    </tr>\n",
       "    <tr>\n",
       "      <th>Software</th>\n",
       "      <td>2467499</td>\n",
       "      <td>1226708</td>\n",
       "      <td>68554</td>\n",
       "    </tr>\n",
       "    <tr>\n",
       "      <th>Sound</th>\n",
       "      <td>20168046</td>\n",
       "      <td>2492888</td>\n",
       "      <td>105782</td>\n",
       "    </tr>\n",
       "    <tr>\n",
       "      <th>Space Exploration</th>\n",
       "      <td>4777354</td>\n",
       "      <td>2705500</td>\n",
       "      <td>69478</td>\n",
       "    </tr>\n",
       "    <tr>\n",
       "      <th>Spaces</th>\n",
       "      <td>309864</td>\n",
       "      <td>300000</td>\n",
       "      <td>3025</td>\n",
       "    </tr>\n",
       "    <tr>\n",
       "      <th>Stationery</th>\n",
       "      <td>47165</td>\n",
       "      <td>15000</td>\n",
       "      <td>1326</td>\n",
       "    </tr>\n",
       "    <tr>\n",
       "      <th>Tabletop Games</th>\n",
       "      <td>204123729</td>\n",
       "      <td>19779740</td>\n",
       "      <td>2460853</td>\n",
       "    </tr>\n",
       "    <tr>\n",
       "      <th>Technology</th>\n",
       "      <td>64281911</td>\n",
       "      <td>10367999</td>\n",
       "      <td>568784</td>\n",
       "    </tr>\n",
       "    <tr>\n",
       "      <th>Television</th>\n",
       "      <td>5764229</td>\n",
       "      <td>2000000</td>\n",
       "      <td>48270</td>\n",
       "    </tr>\n",
       "    <tr>\n",
       "      <th>Theater</th>\n",
       "      <td>602359</td>\n",
       "      <td>346000</td>\n",
       "      <td>10468</td>\n",
       "    </tr>\n",
       "    <tr>\n",
       "      <th>Thrillers</th>\n",
       "      <td>981679</td>\n",
       "      <td>450000</td>\n",
       "      <td>4294</td>\n",
       "    </tr>\n",
       "    <tr>\n",
       "      <th>Typography</th>\n",
       "      <td>1495922</td>\n",
       "      <td>52000</td>\n",
       "      <td>17218</td>\n",
       "    </tr>\n",
       "    <tr>\n",
       "      <th>Vegan</th>\n",
       "      <td>264535</td>\n",
       "      <td>163500</td>\n",
       "      <td>6510</td>\n",
       "    </tr>\n",
       "    <tr>\n",
       "      <th>Video</th>\n",
       "      <td>85176</td>\n",
       "      <td>75000</td>\n",
       "      <td>1183</td>\n",
       "    </tr>\n",
       "    <tr>\n",
       "      <th>Video Games</th>\n",
       "      <td>142837755</td>\n",
       "      <td>66558344</td>\n",
       "      <td>3000001</td>\n",
       "    </tr>\n",
       "    <tr>\n",
       "      <th>Wearables</th>\n",
       "      <td>28070833</td>\n",
       "      <td>4591499</td>\n",
       "      <td>203211</td>\n",
       "    </tr>\n",
       "    <tr>\n",
       "      <th>Web</th>\n",
       "      <td>6364330</td>\n",
       "      <td>1588500</td>\n",
       "      <td>127791</td>\n",
       "    </tr>\n",
       "    <tr>\n",
       "      <th>Webcomics</th>\n",
       "      <td>3554364</td>\n",
       "      <td>611550</td>\n",
       "      <td>66316</td>\n",
       "    </tr>\n",
       "    <tr>\n",
       "      <th>Webseries</th>\n",
       "      <td>4503641</td>\n",
       "      <td>2507212</td>\n",
       "      <td>82706</td>\n",
       "    </tr>\n",
       "    <tr>\n",
       "      <th>World Music</th>\n",
       "      <td>1570222</td>\n",
       "      <td>252000</td>\n",
       "      <td>13037</td>\n",
       "    </tr>\n",
       "    <tr>\n",
       "      <th>Young Adult</th>\n",
       "      <td>32699</td>\n",
       "      <td>8700</td>\n",
       "      <td>1199</td>\n",
       "    </tr>\n",
       "    <tr>\n",
       "      <th>Zines</th>\n",
       "      <td>60431</td>\n",
       "      <td>10000</td>\n",
       "      <td>1153</td>\n",
       "    </tr>\n",
       "  </tbody>\n",
       "</table>\n",
       "<p>115 rows × 3 columns</p>\n",
       "</div>"
      ],
      "text/plain": [
       "                    amt.pledged      goal  num.backers\n",
       "category                                              \n",
       "3D Printing            17087619   1425999        78065\n",
       "Academic                  91474     75000         1461\n",
       "Accessories             3151421    499200        61951\n",
       "Action                   630019    200000        17713\n",
       "Animation              11349738   6369000       178891\n",
       "Anthologies             2304845    769200        46028\n",
       "Apparel                10387585   1097400        85561\n",
       "Apps                    1382373    393858        44019\n",
       "Architecture            1034504    424000         7150\n",
       "Art                     5442301   1685067        41799\n",
       "Art Books               4737943    789200        71773\n",
       "Audio                    193742    159000         3145\n",
       "Calendars                117328     23500         2285\n",
       "Camera Equipment       10749860   1604000        59803\n",
       "Children's Books        2505071    384000        58688\n",
       "Childrenswear            285755     80000         4635\n",
       "Chiptune                 455229     75000        12562\n",
       "Civic Design             805015    691900        10407\n",
       "Classical Music          422043    196000         9298\n",
       "Comedy                  2816273   1554985        54428\n",
       "Comic Books              914819    282100        16186\n",
       "Comics                 11122271   2136421       211310\n",
       "Conceptual Art           115324     80000         2782\n",
       "Cookbooks                540540    163010        16047\n",
       "Country &amp; Folk       340644    235000         5027\n",
       "Crafts                  1017647    110000        22498\n",
       "DIY Electronics        10922092   1002768       139711\n",
       "Dance                    146075    125000         4133\n",
       "Design                 20655212   3829758       279935\n",
       "Digital Art              116766      9000         2766\n",
       "...                         ...       ...          ...\n",
       "Ready-to-wear            425452      8500         6157\n",
       "Restaurants              903036    750000         7521\n",
       "Robots                  6256198   1450600        42547\n",
       "Rock                    1466133    490000        31859\n",
       "Romance                  121084    100000         1334\n",
       "Science Fiction         1417423    656580        18587\n",
       "Sculpture               2162013    210000         7138\n",
       "Shorts                   781843    501628        14138\n",
       "Small Batch              533166     78700        11271\n",
       "Software                2467499   1226708        68554\n",
       "Sound                  20168046   2492888       105782\n",
       "Space Exploration       4777354   2705500        69478\n",
       "Spaces                   309864    300000         3025\n",
       "Stationery                47165     15000         1326\n",
       "Tabletop Games        204123729  19779740      2460853\n",
       "Technology             64281911  10367999       568784\n",
       "Television              5764229   2000000        48270\n",
       "Theater                  602359    346000        10468\n",
       "Thrillers                981679    450000         4294\n",
       "Typography              1495922     52000        17218\n",
       "Vegan                    264535    163500         6510\n",
       "Video                     85176     75000         1183\n",
       "Video Games           142837755  66558344      3000001\n",
       "Wearables              28070833   4591499       203211\n",
       "Web                     6364330   1588500       127791\n",
       "Webcomics               3554364    611550        66316\n",
       "Webseries               4503641   2507212        82706\n",
       "World Music             1570222    252000        13037\n",
       "Young Adult               32699      8700         1199\n",
       "Zines                     60431     10000         1153\n",
       "\n",
       "[115 rows x 3 columns]"
      ]
     },
     "execution_count": 25,
     "metadata": {},
     "output_type": "execute_result"
    }
   ],
   "source": [
    "ksdata.groupby(\"category\").sum()"
   ]
  },
  {
   "cell_type": "markdown",
   "metadata": {},
   "source": [
    "What if what we want is the mean?"
   ]
  },
  {
   "cell_type": "code",
   "execution_count": 26,
   "metadata": {
    "collapsed": false
   },
   "outputs": [
    {
     "data": {
      "text/html": [
       "<div>\n",
       "<table border=\"1\" class=\"dataframe\">\n",
       "  <thead>\n",
       "    <tr style=\"text-align: right;\">\n",
       "      <th></th>\n",
       "      <th>amt.pledged</th>\n",
       "      <th>goal</th>\n",
       "      <th>num.backers</th>\n",
       "    </tr>\n",
       "    <tr>\n",
       "      <th>category</th>\n",
       "      <th></th>\n",
       "      <th></th>\n",
       "      <th></th>\n",
       "    </tr>\n",
       "  </thead>\n",
       "  <tbody>\n",
       "    <tr>\n",
       "      <th>3D Printing</th>\n",
       "      <td>742939.956522</td>\n",
       "      <td>61999.956522</td>\n",
       "      <td>3394.130435</td>\n",
       "    </tr>\n",
       "    <tr>\n",
       "      <th>Academic</th>\n",
       "      <td>91474.000000</td>\n",
       "      <td>75000.000000</td>\n",
       "      <td>1461.000000</td>\n",
       "    </tr>\n",
       "    <tr>\n",
       "      <th>Accessories</th>\n",
       "      <td>157571.050000</td>\n",
       "      <td>24960.000000</td>\n",
       "      <td>3097.550000</td>\n",
       "    </tr>\n",
       "    <tr>\n",
       "      <th>Action</th>\n",
       "      <td>630019.000000</td>\n",
       "      <td>200000.000000</td>\n",
       "      <td>17713.000000</td>\n",
       "    </tr>\n",
       "    <tr>\n",
       "      <th>Animation</th>\n",
       "      <td>231627.306122</td>\n",
       "      <td>129979.591837</td>\n",
       "      <td>3650.836735</td>\n",
       "    </tr>\n",
       "    <tr>\n",
       "      <th>Anthologies</th>\n",
       "      <td>100210.652174</td>\n",
       "      <td>33443.478261</td>\n",
       "      <td>2001.217391</td>\n",
       "    </tr>\n",
       "    <tr>\n",
       "      <th>Apparel</th>\n",
       "      <td>324612.031250</td>\n",
       "      <td>34293.750000</td>\n",
       "      <td>2673.781250</td>\n",
       "    </tr>\n",
       "    <tr>\n",
       "      <th>Apps</th>\n",
       "      <td>81316.058824</td>\n",
       "      <td>23168.117647</td>\n",
       "      <td>2589.352941</td>\n",
       "    </tr>\n",
       "    <tr>\n",
       "      <th>Architecture</th>\n",
       "      <td>517252.000000</td>\n",
       "      <td>212000.000000</td>\n",
       "      <td>3575.000000</td>\n",
       "    </tr>\n",
       "    <tr>\n",
       "      <th>Art</th>\n",
       "      <td>362820.066667</td>\n",
       "      <td>112337.800000</td>\n",
       "      <td>2786.600000</td>\n",
       "    </tr>\n",
       "    <tr>\n",
       "      <th>Art Books</th>\n",
       "      <td>139351.264706</td>\n",
       "      <td>23211.764706</td>\n",
       "      <td>2110.970588</td>\n",
       "    </tr>\n",
       "    <tr>\n",
       "      <th>Audio</th>\n",
       "      <td>96871.000000</td>\n",
       "      <td>79500.000000</td>\n",
       "      <td>1572.500000</td>\n",
       "    </tr>\n",
       "    <tr>\n",
       "      <th>Calendars</th>\n",
       "      <td>58664.000000</td>\n",
       "      <td>11750.000000</td>\n",
       "      <td>1142.500000</td>\n",
       "    </tr>\n",
       "    <tr>\n",
       "      <th>Camera Equipment</th>\n",
       "      <td>413456.153846</td>\n",
       "      <td>61692.307692</td>\n",
       "      <td>2300.115385</td>\n",
       "    </tr>\n",
       "    <tr>\n",
       "      <th>Children's Books</th>\n",
       "      <td>131845.842105</td>\n",
       "      <td>20210.526316</td>\n",
       "      <td>3088.842105</td>\n",
       "    </tr>\n",
       "    <tr>\n",
       "      <th>Childrenswear</th>\n",
       "      <td>142877.500000</td>\n",
       "      <td>40000.000000</td>\n",
       "      <td>2317.500000</td>\n",
       "    </tr>\n",
       "    <tr>\n",
       "      <th>Chiptune</th>\n",
       "      <td>151743.000000</td>\n",
       "      <td>25000.000000</td>\n",
       "      <td>4187.333333</td>\n",
       "    </tr>\n",
       "    <tr>\n",
       "      <th>Civic Design</th>\n",
       "      <td>161003.000000</td>\n",
       "      <td>138380.000000</td>\n",
       "      <td>2081.400000</td>\n",
       "    </tr>\n",
       "    <tr>\n",
       "      <th>Classical Music</th>\n",
       "      <td>105510.750000</td>\n",
       "      <td>49000.000000</td>\n",
       "      <td>2324.500000</td>\n",
       "    </tr>\n",
       "    <tr>\n",
       "      <th>Comedy</th>\n",
       "      <td>187751.533333</td>\n",
       "      <td>103665.666667</td>\n",
       "      <td>3628.533333</td>\n",
       "    </tr>\n",
       "    <tr>\n",
       "      <th>Comic Books</th>\n",
       "      <td>91481.900000</td>\n",
       "      <td>28210.000000</td>\n",
       "      <td>1618.600000</td>\n",
       "    </tr>\n",
       "    <tr>\n",
       "      <th>Comics</th>\n",
       "      <td>140788.240506</td>\n",
       "      <td>27043.303797</td>\n",
       "      <td>2674.810127</td>\n",
       "    </tr>\n",
       "    <tr>\n",
       "      <th>Conceptual Art</th>\n",
       "      <td>57662.000000</td>\n",
       "      <td>40000.000000</td>\n",
       "      <td>1391.000000</td>\n",
       "    </tr>\n",
       "    <tr>\n",
       "      <th>Cookbooks</th>\n",
       "      <td>77220.000000</td>\n",
       "      <td>23287.142857</td>\n",
       "      <td>2292.428571</td>\n",
       "    </tr>\n",
       "    <tr>\n",
       "      <th>Country &amp;amp; Folk</th>\n",
       "      <td>113548.000000</td>\n",
       "      <td>78333.333333</td>\n",
       "      <td>1675.666667</td>\n",
       "    </tr>\n",
       "    <tr>\n",
       "      <th>Crafts</th>\n",
       "      <td>145378.142857</td>\n",
       "      <td>15714.285714</td>\n",
       "      <td>3214.000000</td>\n",
       "    </tr>\n",
       "    <tr>\n",
       "      <th>DIY Electronics</th>\n",
       "      <td>260049.809524</td>\n",
       "      <td>23875.428571</td>\n",
       "      <td>3326.452381</td>\n",
       "    </tr>\n",
       "    <tr>\n",
       "      <th>Dance</th>\n",
       "      <td>146075.000000</td>\n",
       "      <td>125000.000000</td>\n",
       "      <td>4133.000000</td>\n",
       "    </tr>\n",
       "    <tr>\n",
       "      <th>Design</th>\n",
       "      <td>208638.505051</td>\n",
       "      <td>38684.424242</td>\n",
       "      <td>2827.626263</td>\n",
       "    </tr>\n",
       "    <tr>\n",
       "      <th>Digital Art</th>\n",
       "      <td>58383.000000</td>\n",
       "      <td>4500.000000</td>\n",
       "      <td>1383.000000</td>\n",
       "    </tr>\n",
       "    <tr>\n",
       "      <th>...</th>\n",
       "      <td>...</td>\n",
       "      <td>...</td>\n",
       "      <td>...</td>\n",
       "    </tr>\n",
       "    <tr>\n",
       "      <th>Ready-to-wear</th>\n",
       "      <td>141817.333333</td>\n",
       "      <td>2833.333333</td>\n",
       "      <td>2052.333333</td>\n",
       "    </tr>\n",
       "    <tr>\n",
       "      <th>Restaurants</th>\n",
       "      <td>225759.000000</td>\n",
       "      <td>187500.000000</td>\n",
       "      <td>1880.250000</td>\n",
       "    </tr>\n",
       "    <tr>\n",
       "      <th>Robots</th>\n",
       "      <td>347566.555556</td>\n",
       "      <td>80588.888889</td>\n",
       "      <td>2363.722222</td>\n",
       "    </tr>\n",
       "    <tr>\n",
       "      <th>Rock</th>\n",
       "      <td>122177.750000</td>\n",
       "      <td>40833.333333</td>\n",
       "      <td>2654.916667</td>\n",
       "    </tr>\n",
       "    <tr>\n",
       "      <th>Romance</th>\n",
       "      <td>121084.000000</td>\n",
       "      <td>100000.000000</td>\n",
       "      <td>1334.000000</td>\n",
       "    </tr>\n",
       "    <tr>\n",
       "      <th>Science Fiction</th>\n",
       "      <td>283484.600000</td>\n",
       "      <td>131316.000000</td>\n",
       "      <td>3717.400000</td>\n",
       "    </tr>\n",
       "    <tr>\n",
       "      <th>Sculpture</th>\n",
       "      <td>540503.250000</td>\n",
       "      <td>52500.000000</td>\n",
       "      <td>1784.500000</td>\n",
       "    </tr>\n",
       "    <tr>\n",
       "      <th>Shorts</th>\n",
       "      <td>97730.375000</td>\n",
       "      <td>62703.500000</td>\n",
       "      <td>1767.250000</td>\n",
       "    </tr>\n",
       "    <tr>\n",
       "      <th>Small Batch</th>\n",
       "      <td>133291.500000</td>\n",
       "      <td>19675.000000</td>\n",
       "      <td>2817.750000</td>\n",
       "    </tr>\n",
       "    <tr>\n",
       "      <th>Software</th>\n",
       "      <td>91388.851852</td>\n",
       "      <td>45433.629630</td>\n",
       "      <td>2539.037037</td>\n",
       "    </tr>\n",
       "    <tr>\n",
       "      <th>Sound</th>\n",
       "      <td>775694.076923</td>\n",
       "      <td>95880.307692</td>\n",
       "      <td>4068.538462</td>\n",
       "    </tr>\n",
       "    <tr>\n",
       "      <th>Space Exploration</th>\n",
       "      <td>477735.400000</td>\n",
       "      <td>270550.000000</td>\n",
       "      <td>6947.800000</td>\n",
       "    </tr>\n",
       "    <tr>\n",
       "      <th>Spaces</th>\n",
       "      <td>154932.000000</td>\n",
       "      <td>150000.000000</td>\n",
       "      <td>1512.500000</td>\n",
       "    </tr>\n",
       "    <tr>\n",
       "      <th>Stationery</th>\n",
       "      <td>47165.000000</td>\n",
       "      <td>15000.000000</td>\n",
       "      <td>1326.000000</td>\n",
       "    </tr>\n",
       "    <tr>\n",
       "      <th>Tabletop Games</th>\n",
       "      <td>275099.365229</td>\n",
       "      <td>26657.331536</td>\n",
       "      <td>3316.513477</td>\n",
       "    </tr>\n",
       "    <tr>\n",
       "      <th>Technology</th>\n",
       "      <td>422907.309211</td>\n",
       "      <td>68210.519737</td>\n",
       "      <td>3742.000000</td>\n",
       "    </tr>\n",
       "    <tr>\n",
       "      <th>Television</th>\n",
       "      <td>5764229.000000</td>\n",
       "      <td>2000000.000000</td>\n",
       "      <td>48270.000000</td>\n",
       "    </tr>\n",
       "    <tr>\n",
       "      <th>Theater</th>\n",
       "      <td>120471.800000</td>\n",
       "      <td>69200.000000</td>\n",
       "      <td>2093.600000</td>\n",
       "    </tr>\n",
       "    <tr>\n",
       "      <th>Thrillers</th>\n",
       "      <td>490839.500000</td>\n",
       "      <td>225000.000000</td>\n",
       "      <td>2147.000000</td>\n",
       "    </tr>\n",
       "    <tr>\n",
       "      <th>Typography</th>\n",
       "      <td>747961.000000</td>\n",
       "      <td>26000.000000</td>\n",
       "      <td>8609.000000</td>\n",
       "    </tr>\n",
       "    <tr>\n",
       "      <th>Vegan</th>\n",
       "      <td>52907.000000</td>\n",
       "      <td>32700.000000</td>\n",
       "      <td>1302.000000</td>\n",
       "    </tr>\n",
       "    <tr>\n",
       "      <th>Video</th>\n",
       "      <td>85176.000000</td>\n",
       "      <td>75000.000000</td>\n",
       "      <td>1183.000000</td>\n",
       "    </tr>\n",
       "    <tr>\n",
       "      <th>Video Games</th>\n",
       "      <td>272591.135496</td>\n",
       "      <td>127019.740458</td>\n",
       "      <td>5725.192748</td>\n",
       "    </tr>\n",
       "    <tr>\n",
       "      <th>Wearables</th>\n",
       "      <td>438606.765625</td>\n",
       "      <td>71742.171875</td>\n",
       "      <td>3175.171875</td>\n",
       "    </tr>\n",
       "    <tr>\n",
       "      <th>Web</th>\n",
       "      <td>489563.846154</td>\n",
       "      <td>122192.307692</td>\n",
       "      <td>9830.076923</td>\n",
       "    </tr>\n",
       "    <tr>\n",
       "      <th>Webcomics</th>\n",
       "      <td>107708.000000</td>\n",
       "      <td>18531.818182</td>\n",
       "      <td>2009.575758</td>\n",
       "    </tr>\n",
       "    <tr>\n",
       "      <th>Webseries</th>\n",
       "      <td>140738.781250</td>\n",
       "      <td>78350.375000</td>\n",
       "      <td>2584.562500</td>\n",
       "    </tr>\n",
       "    <tr>\n",
       "      <th>World Music</th>\n",
       "      <td>785111.000000</td>\n",
       "      <td>126000.000000</td>\n",
       "      <td>6518.500000</td>\n",
       "    </tr>\n",
       "    <tr>\n",
       "      <th>Young Adult</th>\n",
       "      <td>32699.000000</td>\n",
       "      <td>8700.000000</td>\n",
       "      <td>1199.000000</td>\n",
       "    </tr>\n",
       "    <tr>\n",
       "      <th>Zines</th>\n",
       "      <td>60431.000000</td>\n",
       "      <td>10000.000000</td>\n",
       "      <td>1153.000000</td>\n",
       "    </tr>\n",
       "  </tbody>\n",
       "</table>\n",
       "<p>115 rows × 3 columns</p>\n",
       "</div>"
      ],
      "text/plain": [
       "                       amt.pledged            goal   num.backers\n",
       "category                                                        \n",
       "3D Printing          742939.956522    61999.956522   3394.130435\n",
       "Academic              91474.000000    75000.000000   1461.000000\n",
       "Accessories          157571.050000    24960.000000   3097.550000\n",
       "Action               630019.000000   200000.000000  17713.000000\n",
       "Animation            231627.306122   129979.591837   3650.836735\n",
       "Anthologies          100210.652174    33443.478261   2001.217391\n",
       "Apparel              324612.031250    34293.750000   2673.781250\n",
       "Apps                  81316.058824    23168.117647   2589.352941\n",
       "Architecture         517252.000000   212000.000000   3575.000000\n",
       "Art                  362820.066667   112337.800000   2786.600000\n",
       "Art Books            139351.264706    23211.764706   2110.970588\n",
       "Audio                 96871.000000    79500.000000   1572.500000\n",
       "Calendars             58664.000000    11750.000000   1142.500000\n",
       "Camera Equipment     413456.153846    61692.307692   2300.115385\n",
       "Children's Books     131845.842105    20210.526316   3088.842105\n",
       "Childrenswear        142877.500000    40000.000000   2317.500000\n",
       "Chiptune             151743.000000    25000.000000   4187.333333\n",
       "Civic Design         161003.000000   138380.000000   2081.400000\n",
       "Classical Music      105510.750000    49000.000000   2324.500000\n",
       "Comedy               187751.533333   103665.666667   3628.533333\n",
       "Comic Books           91481.900000    28210.000000   1618.600000\n",
       "Comics               140788.240506    27043.303797   2674.810127\n",
       "Conceptual Art        57662.000000    40000.000000   1391.000000\n",
       "Cookbooks             77220.000000    23287.142857   2292.428571\n",
       "Country &amp; Folk   113548.000000    78333.333333   1675.666667\n",
       "Crafts               145378.142857    15714.285714   3214.000000\n",
       "DIY Electronics      260049.809524    23875.428571   3326.452381\n",
       "Dance                146075.000000   125000.000000   4133.000000\n",
       "Design               208638.505051    38684.424242   2827.626263\n",
       "Digital Art           58383.000000     4500.000000   1383.000000\n",
       "...                            ...             ...           ...\n",
       "Ready-to-wear        141817.333333     2833.333333   2052.333333\n",
       "Restaurants          225759.000000   187500.000000   1880.250000\n",
       "Robots               347566.555556    80588.888889   2363.722222\n",
       "Rock                 122177.750000    40833.333333   2654.916667\n",
       "Romance              121084.000000   100000.000000   1334.000000\n",
       "Science Fiction      283484.600000   131316.000000   3717.400000\n",
       "Sculpture            540503.250000    52500.000000   1784.500000\n",
       "Shorts                97730.375000    62703.500000   1767.250000\n",
       "Small Batch          133291.500000    19675.000000   2817.750000\n",
       "Software              91388.851852    45433.629630   2539.037037\n",
       "Sound                775694.076923    95880.307692   4068.538462\n",
       "Space Exploration    477735.400000   270550.000000   6947.800000\n",
       "Spaces               154932.000000   150000.000000   1512.500000\n",
       "Stationery            47165.000000    15000.000000   1326.000000\n",
       "Tabletop Games       275099.365229    26657.331536   3316.513477\n",
       "Technology           422907.309211    68210.519737   3742.000000\n",
       "Television          5764229.000000  2000000.000000  48270.000000\n",
       "Theater              120471.800000    69200.000000   2093.600000\n",
       "Thrillers            490839.500000   225000.000000   2147.000000\n",
       "Typography           747961.000000    26000.000000   8609.000000\n",
       "Vegan                 52907.000000    32700.000000   1302.000000\n",
       "Video                 85176.000000    75000.000000   1183.000000\n",
       "Video Games          272591.135496   127019.740458   5725.192748\n",
       "Wearables            438606.765625    71742.171875   3175.171875\n",
       "Web                  489563.846154   122192.307692   9830.076923\n",
       "Webcomics            107708.000000    18531.818182   2009.575758\n",
       "Webseries            140738.781250    78350.375000   2584.562500\n",
       "World Music          785111.000000   126000.000000   6518.500000\n",
       "Young Adult           32699.000000     8700.000000   1199.000000\n",
       "Zines                 60431.000000    10000.000000   1153.000000\n",
       "\n",
       "[115 rows x 3 columns]"
      ]
     },
     "execution_count": 26,
     "metadata": {},
     "output_type": "execute_result"
    }
   ],
   "source": [
    "ksdata.groupby(\"category\").mean()"
   ]
  },
  {
   "cell_type": "markdown",
   "metadata": {},
   "source": [
    "Finally, you can add your own aggregating functions with the `agg()` function to a groupby object and apply them all at the same time."
   ]
  },
  {
   "cell_type": "code",
   "execution_count": 27,
   "metadata": {
    "collapsed": false,
    "scrolled": true
   },
   "outputs": [
    {
     "data": {
      "text/html": [
       "<div>\n",
       "<table border=\"1\" class=\"dataframe\">\n",
       "  <thead>\n",
       "    <tr>\n",
       "      <th></th>\n",
       "      <th colspan=\"3\" halign=\"left\">amt.pledged</th>\n",
       "      <th colspan=\"3\" halign=\"left\">num.backers</th>\n",
       "    </tr>\n",
       "    <tr>\n",
       "      <th></th>\n",
       "      <th>sum</th>\n",
       "      <th>mean</th>\n",
       "      <th>len</th>\n",
       "      <th>sum</th>\n",
       "      <th>mean</th>\n",
       "      <th>len</th>\n",
       "    </tr>\n",
       "    <tr>\n",
       "      <th>category</th>\n",
       "      <th></th>\n",
       "      <th></th>\n",
       "      <th></th>\n",
       "      <th></th>\n",
       "      <th></th>\n",
       "      <th></th>\n",
       "    </tr>\n",
       "  </thead>\n",
       "  <tbody>\n",
       "    <tr>\n",
       "      <th>3D Printing</th>\n",
       "      <td>17087619</td>\n",
       "      <td>742939.956522</td>\n",
       "      <td>23</td>\n",
       "      <td>78065</td>\n",
       "      <td>3394.130435</td>\n",
       "      <td>23</td>\n",
       "    </tr>\n",
       "    <tr>\n",
       "      <th>Academic</th>\n",
       "      <td>91474</td>\n",
       "      <td>91474.000000</td>\n",
       "      <td>1</td>\n",
       "      <td>1461</td>\n",
       "      <td>1461.000000</td>\n",
       "      <td>1</td>\n",
       "    </tr>\n",
       "    <tr>\n",
       "      <th>Accessories</th>\n",
       "      <td>3151421</td>\n",
       "      <td>157571.050000</td>\n",
       "      <td>20</td>\n",
       "      <td>61951</td>\n",
       "      <td>3097.550000</td>\n",
       "      <td>20</td>\n",
       "    </tr>\n",
       "    <tr>\n",
       "      <th>Action</th>\n",
       "      <td>630019</td>\n",
       "      <td>630019.000000</td>\n",
       "      <td>1</td>\n",
       "      <td>17713</td>\n",
       "      <td>17713.000000</td>\n",
       "      <td>1</td>\n",
       "    </tr>\n",
       "    <tr>\n",
       "      <th>Animation</th>\n",
       "      <td>11349738</td>\n",
       "      <td>231627.306122</td>\n",
       "      <td>49</td>\n",
       "      <td>178891</td>\n",
       "      <td>3650.836735</td>\n",
       "      <td>49</td>\n",
       "    </tr>\n",
       "    <tr>\n",
       "      <th>Anthologies</th>\n",
       "      <td>2304845</td>\n",
       "      <td>100210.652174</td>\n",
       "      <td>23</td>\n",
       "      <td>46028</td>\n",
       "      <td>2001.217391</td>\n",
       "      <td>23</td>\n",
       "    </tr>\n",
       "    <tr>\n",
       "      <th>Apparel</th>\n",
       "      <td>10387585</td>\n",
       "      <td>324612.031250</td>\n",
       "      <td>32</td>\n",
       "      <td>85561</td>\n",
       "      <td>2673.781250</td>\n",
       "      <td>32</td>\n",
       "    </tr>\n",
       "    <tr>\n",
       "      <th>Apps</th>\n",
       "      <td>1382373</td>\n",
       "      <td>81316.058824</td>\n",
       "      <td>17</td>\n",
       "      <td>44019</td>\n",
       "      <td>2589.352941</td>\n",
       "      <td>17</td>\n",
       "    </tr>\n",
       "    <tr>\n",
       "      <th>Architecture</th>\n",
       "      <td>1034504</td>\n",
       "      <td>517252.000000</td>\n",
       "      <td>2</td>\n",
       "      <td>7150</td>\n",
       "      <td>3575.000000</td>\n",
       "      <td>2</td>\n",
       "    </tr>\n",
       "    <tr>\n",
       "      <th>Art</th>\n",
       "      <td>5442301</td>\n",
       "      <td>362820.066667</td>\n",
       "      <td>15</td>\n",
       "      <td>41799</td>\n",
       "      <td>2786.600000</td>\n",
       "      <td>15</td>\n",
       "    </tr>\n",
       "    <tr>\n",
       "      <th>Art Books</th>\n",
       "      <td>4737943</td>\n",
       "      <td>139351.264706</td>\n",
       "      <td>34</td>\n",
       "      <td>71773</td>\n",
       "      <td>2110.970588</td>\n",
       "      <td>34</td>\n",
       "    </tr>\n",
       "    <tr>\n",
       "      <th>Audio</th>\n",
       "      <td>193742</td>\n",
       "      <td>96871.000000</td>\n",
       "      <td>2</td>\n",
       "      <td>3145</td>\n",
       "      <td>1572.500000</td>\n",
       "      <td>2</td>\n",
       "    </tr>\n",
       "    <tr>\n",
       "      <th>Calendars</th>\n",
       "      <td>117328</td>\n",
       "      <td>58664.000000</td>\n",
       "      <td>2</td>\n",
       "      <td>2285</td>\n",
       "      <td>1142.500000</td>\n",
       "      <td>2</td>\n",
       "    </tr>\n",
       "    <tr>\n",
       "      <th>Camera Equipment</th>\n",
       "      <td>10749860</td>\n",
       "      <td>413456.153846</td>\n",
       "      <td>26</td>\n",
       "      <td>59803</td>\n",
       "      <td>2300.115385</td>\n",
       "      <td>26</td>\n",
       "    </tr>\n",
       "    <tr>\n",
       "      <th>Children's Books</th>\n",
       "      <td>2505071</td>\n",
       "      <td>131845.842105</td>\n",
       "      <td>19</td>\n",
       "      <td>58688</td>\n",
       "      <td>3088.842105</td>\n",
       "      <td>19</td>\n",
       "    </tr>\n",
       "    <tr>\n",
       "      <th>Childrenswear</th>\n",
       "      <td>285755</td>\n",
       "      <td>142877.500000</td>\n",
       "      <td>2</td>\n",
       "      <td>4635</td>\n",
       "      <td>2317.500000</td>\n",
       "      <td>2</td>\n",
       "    </tr>\n",
       "    <tr>\n",
       "      <th>Chiptune</th>\n",
       "      <td>455229</td>\n",
       "      <td>151743.000000</td>\n",
       "      <td>3</td>\n",
       "      <td>12562</td>\n",
       "      <td>4187.333333</td>\n",
       "      <td>3</td>\n",
       "    </tr>\n",
       "    <tr>\n",
       "      <th>Civic Design</th>\n",
       "      <td>805015</td>\n",
       "      <td>161003.000000</td>\n",
       "      <td>5</td>\n",
       "      <td>10407</td>\n",
       "      <td>2081.400000</td>\n",
       "      <td>5</td>\n",
       "    </tr>\n",
       "    <tr>\n",
       "      <th>Classical Music</th>\n",
       "      <td>422043</td>\n",
       "      <td>105510.750000</td>\n",
       "      <td>4</td>\n",
       "      <td>9298</td>\n",
       "      <td>2324.500000</td>\n",
       "      <td>4</td>\n",
       "    </tr>\n",
       "    <tr>\n",
       "      <th>Comedy</th>\n",
       "      <td>2816273</td>\n",
       "      <td>187751.533333</td>\n",
       "      <td>15</td>\n",
       "      <td>54428</td>\n",
       "      <td>3628.533333</td>\n",
       "      <td>15</td>\n",
       "    </tr>\n",
       "    <tr>\n",
       "      <th>Comic Books</th>\n",
       "      <td>914819</td>\n",
       "      <td>91481.900000</td>\n",
       "      <td>10</td>\n",
       "      <td>16186</td>\n",
       "      <td>1618.600000</td>\n",
       "      <td>10</td>\n",
       "    </tr>\n",
       "    <tr>\n",
       "      <th>Comics</th>\n",
       "      <td>11122271</td>\n",
       "      <td>140788.240506</td>\n",
       "      <td>79</td>\n",
       "      <td>211310</td>\n",
       "      <td>2674.810127</td>\n",
       "      <td>79</td>\n",
       "    </tr>\n",
       "    <tr>\n",
       "      <th>Conceptual Art</th>\n",
       "      <td>115324</td>\n",
       "      <td>57662.000000</td>\n",
       "      <td>2</td>\n",
       "      <td>2782</td>\n",
       "      <td>1391.000000</td>\n",
       "      <td>2</td>\n",
       "    </tr>\n",
       "    <tr>\n",
       "      <th>Cookbooks</th>\n",
       "      <td>540540</td>\n",
       "      <td>77220.000000</td>\n",
       "      <td>7</td>\n",
       "      <td>16047</td>\n",
       "      <td>2292.428571</td>\n",
       "      <td>7</td>\n",
       "    </tr>\n",
       "    <tr>\n",
       "      <th>Country &amp;amp; Folk</th>\n",
       "      <td>340644</td>\n",
       "      <td>113548.000000</td>\n",
       "      <td>3</td>\n",
       "      <td>5027</td>\n",
       "      <td>1675.666667</td>\n",
       "      <td>3</td>\n",
       "    </tr>\n",
       "    <tr>\n",
       "      <th>Crafts</th>\n",
       "      <td>1017647</td>\n",
       "      <td>145378.142857</td>\n",
       "      <td>7</td>\n",
       "      <td>22498</td>\n",
       "      <td>3214.000000</td>\n",
       "      <td>7</td>\n",
       "    </tr>\n",
       "    <tr>\n",
       "      <th>DIY Electronics</th>\n",
       "      <td>10922092</td>\n",
       "      <td>260049.809524</td>\n",
       "      <td>42</td>\n",
       "      <td>139711</td>\n",
       "      <td>3326.452381</td>\n",
       "      <td>42</td>\n",
       "    </tr>\n",
       "    <tr>\n",
       "      <th>Dance</th>\n",
       "      <td>146075</td>\n",
       "      <td>146075.000000</td>\n",
       "      <td>1</td>\n",
       "      <td>4133</td>\n",
       "      <td>4133.000000</td>\n",
       "      <td>1</td>\n",
       "    </tr>\n",
       "    <tr>\n",
       "      <th>Design</th>\n",
       "      <td>20655212</td>\n",
       "      <td>208638.505051</td>\n",
       "      <td>99</td>\n",
       "      <td>279935</td>\n",
       "      <td>2827.626263</td>\n",
       "      <td>99</td>\n",
       "    </tr>\n",
       "    <tr>\n",
       "      <th>Digital Art</th>\n",
       "      <td>116766</td>\n",
       "      <td>58383.000000</td>\n",
       "      <td>2</td>\n",
       "      <td>2766</td>\n",
       "      <td>1383.000000</td>\n",
       "      <td>2</td>\n",
       "    </tr>\n",
       "    <tr>\n",
       "      <th>...</th>\n",
       "      <td>...</td>\n",
       "      <td>...</td>\n",
       "      <td>...</td>\n",
       "      <td>...</td>\n",
       "      <td>...</td>\n",
       "      <td>...</td>\n",
       "    </tr>\n",
       "    <tr>\n",
       "      <th>Ready-to-wear</th>\n",
       "      <td>425452</td>\n",
       "      <td>141817.333333</td>\n",
       "      <td>3</td>\n",
       "      <td>6157</td>\n",
       "      <td>2052.333333</td>\n",
       "      <td>3</td>\n",
       "    </tr>\n",
       "    <tr>\n",
       "      <th>Restaurants</th>\n",
       "      <td>903036</td>\n",
       "      <td>225759.000000</td>\n",
       "      <td>4</td>\n",
       "      <td>7521</td>\n",
       "      <td>1880.250000</td>\n",
       "      <td>4</td>\n",
       "    </tr>\n",
       "    <tr>\n",
       "      <th>Robots</th>\n",
       "      <td>6256198</td>\n",
       "      <td>347566.555556</td>\n",
       "      <td>18</td>\n",
       "      <td>42547</td>\n",
       "      <td>2363.722222</td>\n",
       "      <td>18</td>\n",
       "    </tr>\n",
       "    <tr>\n",
       "      <th>Rock</th>\n",
       "      <td>1466133</td>\n",
       "      <td>122177.750000</td>\n",
       "      <td>12</td>\n",
       "      <td>31859</td>\n",
       "      <td>2654.916667</td>\n",
       "      <td>12</td>\n",
       "    </tr>\n",
       "    <tr>\n",
       "      <th>Romance</th>\n",
       "      <td>121084</td>\n",
       "      <td>121084.000000</td>\n",
       "      <td>1</td>\n",
       "      <td>1334</td>\n",
       "      <td>1334.000000</td>\n",
       "      <td>1</td>\n",
       "    </tr>\n",
       "    <tr>\n",
       "      <th>Science Fiction</th>\n",
       "      <td>1417423</td>\n",
       "      <td>283484.600000</td>\n",
       "      <td>5</td>\n",
       "      <td>18587</td>\n",
       "      <td>3717.400000</td>\n",
       "      <td>5</td>\n",
       "    </tr>\n",
       "    <tr>\n",
       "      <th>Sculpture</th>\n",
       "      <td>2162013</td>\n",
       "      <td>540503.250000</td>\n",
       "      <td>4</td>\n",
       "      <td>7138</td>\n",
       "      <td>1784.500000</td>\n",
       "      <td>4</td>\n",
       "    </tr>\n",
       "    <tr>\n",
       "      <th>Shorts</th>\n",
       "      <td>781843</td>\n",
       "      <td>97730.375000</td>\n",
       "      <td>8</td>\n",
       "      <td>14138</td>\n",
       "      <td>1767.250000</td>\n",
       "      <td>8</td>\n",
       "    </tr>\n",
       "    <tr>\n",
       "      <th>Small Batch</th>\n",
       "      <td>533166</td>\n",
       "      <td>133291.500000</td>\n",
       "      <td>4</td>\n",
       "      <td>11271</td>\n",
       "      <td>2817.750000</td>\n",
       "      <td>4</td>\n",
       "    </tr>\n",
       "    <tr>\n",
       "      <th>Software</th>\n",
       "      <td>2467499</td>\n",
       "      <td>91388.851852</td>\n",
       "      <td>27</td>\n",
       "      <td>68554</td>\n",
       "      <td>2539.037037</td>\n",
       "      <td>27</td>\n",
       "    </tr>\n",
       "    <tr>\n",
       "      <th>Sound</th>\n",
       "      <td>20168046</td>\n",
       "      <td>775694.076923</td>\n",
       "      <td>26</td>\n",
       "      <td>105782</td>\n",
       "      <td>4068.538462</td>\n",
       "      <td>26</td>\n",
       "    </tr>\n",
       "    <tr>\n",
       "      <th>Space Exploration</th>\n",
       "      <td>4777354</td>\n",
       "      <td>477735.400000</td>\n",
       "      <td>10</td>\n",
       "      <td>69478</td>\n",
       "      <td>6947.800000</td>\n",
       "      <td>10</td>\n",
       "    </tr>\n",
       "    <tr>\n",
       "      <th>Spaces</th>\n",
       "      <td>309864</td>\n",
       "      <td>154932.000000</td>\n",
       "      <td>2</td>\n",
       "      <td>3025</td>\n",
       "      <td>1512.500000</td>\n",
       "      <td>2</td>\n",
       "    </tr>\n",
       "    <tr>\n",
       "      <th>Stationery</th>\n",
       "      <td>47165</td>\n",
       "      <td>47165.000000</td>\n",
       "      <td>1</td>\n",
       "      <td>1326</td>\n",
       "      <td>1326.000000</td>\n",
       "      <td>1</td>\n",
       "    </tr>\n",
       "    <tr>\n",
       "      <th>Tabletop Games</th>\n",
       "      <td>204123729</td>\n",
       "      <td>275099.365229</td>\n",
       "      <td>742</td>\n",
       "      <td>2460853</td>\n",
       "      <td>3316.513477</td>\n",
       "      <td>742</td>\n",
       "    </tr>\n",
       "    <tr>\n",
       "      <th>Technology</th>\n",
       "      <td>64281911</td>\n",
       "      <td>422907.309211</td>\n",
       "      <td>152</td>\n",
       "      <td>568784</td>\n",
       "      <td>3742.000000</td>\n",
       "      <td>152</td>\n",
       "    </tr>\n",
       "    <tr>\n",
       "      <th>Television</th>\n",
       "      <td>5764229</td>\n",
       "      <td>5764229.000000</td>\n",
       "      <td>1</td>\n",
       "      <td>48270</td>\n",
       "      <td>48270.000000</td>\n",
       "      <td>1</td>\n",
       "    </tr>\n",
       "    <tr>\n",
       "      <th>Theater</th>\n",
       "      <td>602359</td>\n",
       "      <td>120471.800000</td>\n",
       "      <td>5</td>\n",
       "      <td>10468</td>\n",
       "      <td>2093.600000</td>\n",
       "      <td>5</td>\n",
       "    </tr>\n",
       "    <tr>\n",
       "      <th>Thrillers</th>\n",
       "      <td>981679</td>\n",
       "      <td>490839.500000</td>\n",
       "      <td>2</td>\n",
       "      <td>4294</td>\n",
       "      <td>2147.000000</td>\n",
       "      <td>2</td>\n",
       "    </tr>\n",
       "    <tr>\n",
       "      <th>Typography</th>\n",
       "      <td>1495922</td>\n",
       "      <td>747961.000000</td>\n",
       "      <td>2</td>\n",
       "      <td>17218</td>\n",
       "      <td>8609.000000</td>\n",
       "      <td>2</td>\n",
       "    </tr>\n",
       "    <tr>\n",
       "      <th>Vegan</th>\n",
       "      <td>264535</td>\n",
       "      <td>52907.000000</td>\n",
       "      <td>5</td>\n",
       "      <td>6510</td>\n",
       "      <td>1302.000000</td>\n",
       "      <td>5</td>\n",
       "    </tr>\n",
       "    <tr>\n",
       "      <th>Video</th>\n",
       "      <td>85176</td>\n",
       "      <td>85176.000000</td>\n",
       "      <td>1</td>\n",
       "      <td>1183</td>\n",
       "      <td>1183.000000</td>\n",
       "      <td>1</td>\n",
       "    </tr>\n",
       "    <tr>\n",
       "      <th>Video Games</th>\n",
       "      <td>142837755</td>\n",
       "      <td>272591.135496</td>\n",
       "      <td>524</td>\n",
       "      <td>3000001</td>\n",
       "      <td>5725.192748</td>\n",
       "      <td>524</td>\n",
       "    </tr>\n",
       "    <tr>\n",
       "      <th>Wearables</th>\n",
       "      <td>28070833</td>\n",
       "      <td>438606.765625</td>\n",
       "      <td>64</td>\n",
       "      <td>203211</td>\n",
       "      <td>3175.171875</td>\n",
       "      <td>64</td>\n",
       "    </tr>\n",
       "    <tr>\n",
       "      <th>Web</th>\n",
       "      <td>6364330</td>\n",
       "      <td>489563.846154</td>\n",
       "      <td>13</td>\n",
       "      <td>127791</td>\n",
       "      <td>9830.076923</td>\n",
       "      <td>13</td>\n",
       "    </tr>\n",
       "    <tr>\n",
       "      <th>Webcomics</th>\n",
       "      <td>3554364</td>\n",
       "      <td>107708.000000</td>\n",
       "      <td>33</td>\n",
       "      <td>66316</td>\n",
       "      <td>2009.575758</td>\n",
       "      <td>33</td>\n",
       "    </tr>\n",
       "    <tr>\n",
       "      <th>Webseries</th>\n",
       "      <td>4503641</td>\n",
       "      <td>140738.781250</td>\n",
       "      <td>32</td>\n",
       "      <td>82706</td>\n",
       "      <td>2584.562500</td>\n",
       "      <td>32</td>\n",
       "    </tr>\n",
       "    <tr>\n",
       "      <th>World Music</th>\n",
       "      <td>1570222</td>\n",
       "      <td>785111.000000</td>\n",
       "      <td>2</td>\n",
       "      <td>13037</td>\n",
       "      <td>6518.500000</td>\n",
       "      <td>2</td>\n",
       "    </tr>\n",
       "    <tr>\n",
       "      <th>Young Adult</th>\n",
       "      <td>32699</td>\n",
       "      <td>32699.000000</td>\n",
       "      <td>1</td>\n",
       "      <td>1199</td>\n",
       "      <td>1199.000000</td>\n",
       "      <td>1</td>\n",
       "    </tr>\n",
       "    <tr>\n",
       "      <th>Zines</th>\n",
       "      <td>60431</td>\n",
       "      <td>60431.000000</td>\n",
       "      <td>1</td>\n",
       "      <td>1153</td>\n",
       "      <td>1153.000000</td>\n",
       "      <td>1</td>\n",
       "    </tr>\n",
       "  </tbody>\n",
       "</table>\n",
       "<p>115 rows × 6 columns</p>\n",
       "</div>"
      ],
      "text/plain": [
       "                   amt.pledged                      num.backers                \\\n",
       "                           sum            mean  len         sum          mean   \n",
       "category                                                                        \n",
       "3D Printing           17087619   742939.956522   23       78065   3394.130435   \n",
       "Academic                 91474    91474.000000    1        1461   1461.000000   \n",
       "Accessories            3151421   157571.050000   20       61951   3097.550000   \n",
       "Action                  630019   630019.000000    1       17713  17713.000000   \n",
       "Animation             11349738   231627.306122   49      178891   3650.836735   \n",
       "Anthologies            2304845   100210.652174   23       46028   2001.217391   \n",
       "Apparel               10387585   324612.031250   32       85561   2673.781250   \n",
       "Apps                   1382373    81316.058824   17       44019   2589.352941   \n",
       "Architecture           1034504   517252.000000    2        7150   3575.000000   \n",
       "Art                    5442301   362820.066667   15       41799   2786.600000   \n",
       "Art Books              4737943   139351.264706   34       71773   2110.970588   \n",
       "Audio                   193742    96871.000000    2        3145   1572.500000   \n",
       "Calendars               117328    58664.000000    2        2285   1142.500000   \n",
       "Camera Equipment      10749860   413456.153846   26       59803   2300.115385   \n",
       "Children's Books       2505071   131845.842105   19       58688   3088.842105   \n",
       "Childrenswear           285755   142877.500000    2        4635   2317.500000   \n",
       "Chiptune                455229   151743.000000    3       12562   4187.333333   \n",
       "Civic Design            805015   161003.000000    5       10407   2081.400000   \n",
       "Classical Music         422043   105510.750000    4        9298   2324.500000   \n",
       "Comedy                 2816273   187751.533333   15       54428   3628.533333   \n",
       "Comic Books             914819    91481.900000   10       16186   1618.600000   \n",
       "Comics                11122271   140788.240506   79      211310   2674.810127   \n",
       "Conceptual Art          115324    57662.000000    2        2782   1391.000000   \n",
       "Cookbooks               540540    77220.000000    7       16047   2292.428571   \n",
       "Country &amp; Folk      340644   113548.000000    3        5027   1675.666667   \n",
       "Crafts                 1017647   145378.142857    7       22498   3214.000000   \n",
       "DIY Electronics       10922092   260049.809524   42      139711   3326.452381   \n",
       "Dance                   146075   146075.000000    1        4133   4133.000000   \n",
       "Design                20655212   208638.505051   99      279935   2827.626263   \n",
       "Digital Art             116766    58383.000000    2        2766   1383.000000   \n",
       "...                        ...             ...  ...         ...           ...   \n",
       "Ready-to-wear           425452   141817.333333    3        6157   2052.333333   \n",
       "Restaurants             903036   225759.000000    4        7521   1880.250000   \n",
       "Robots                 6256198   347566.555556   18       42547   2363.722222   \n",
       "Rock                   1466133   122177.750000   12       31859   2654.916667   \n",
       "Romance                 121084   121084.000000    1        1334   1334.000000   \n",
       "Science Fiction        1417423   283484.600000    5       18587   3717.400000   \n",
       "Sculpture              2162013   540503.250000    4        7138   1784.500000   \n",
       "Shorts                  781843    97730.375000    8       14138   1767.250000   \n",
       "Small Batch             533166   133291.500000    4       11271   2817.750000   \n",
       "Software               2467499    91388.851852   27       68554   2539.037037   \n",
       "Sound                 20168046   775694.076923   26      105782   4068.538462   \n",
       "Space Exploration      4777354   477735.400000   10       69478   6947.800000   \n",
       "Spaces                  309864   154932.000000    2        3025   1512.500000   \n",
       "Stationery               47165    47165.000000    1        1326   1326.000000   \n",
       "Tabletop Games       204123729   275099.365229  742     2460853   3316.513477   \n",
       "Technology            64281911   422907.309211  152      568784   3742.000000   \n",
       "Television             5764229  5764229.000000    1       48270  48270.000000   \n",
       "Theater                 602359   120471.800000    5       10468   2093.600000   \n",
       "Thrillers               981679   490839.500000    2        4294   2147.000000   \n",
       "Typography             1495922   747961.000000    2       17218   8609.000000   \n",
       "Vegan                   264535    52907.000000    5        6510   1302.000000   \n",
       "Video                    85176    85176.000000    1        1183   1183.000000   \n",
       "Video Games          142837755   272591.135496  524     3000001   5725.192748   \n",
       "Wearables             28070833   438606.765625   64      203211   3175.171875   \n",
       "Web                    6364330   489563.846154   13      127791   9830.076923   \n",
       "Webcomics              3554364   107708.000000   33       66316   2009.575758   \n",
       "Webseries              4503641   140738.781250   32       82706   2584.562500   \n",
       "World Music            1570222   785111.000000    2       13037   6518.500000   \n",
       "Young Adult              32699    32699.000000    1        1199   1199.000000   \n",
       "Zines                    60431    60431.000000    1        1153   1153.000000   \n",
       "\n",
       "                         \n",
       "                    len  \n",
       "category                 \n",
       "3D Printing          23  \n",
       "Academic              1  \n",
       "Accessories          20  \n",
       "Action                1  \n",
       "Animation            49  \n",
       "Anthologies          23  \n",
       "Apparel              32  \n",
       "Apps                 17  \n",
       "Architecture          2  \n",
       "Art                  15  \n",
       "Art Books            34  \n",
       "Audio                 2  \n",
       "Calendars             2  \n",
       "Camera Equipment     26  \n",
       "Children's Books     19  \n",
       "Childrenswear         2  \n",
       "Chiptune              3  \n",
       "Civic Design          5  \n",
       "Classical Music       4  \n",
       "Comedy               15  \n",
       "Comic Books          10  \n",
       "Comics               79  \n",
       "Conceptual Art        2  \n",
       "Cookbooks             7  \n",
       "Country &amp; Folk    3  \n",
       "Crafts                7  \n",
       "DIY Electronics      42  \n",
       "Dance                 1  \n",
       "Design               99  \n",
       "Digital Art           2  \n",
       "...                 ...  \n",
       "Ready-to-wear         3  \n",
       "Restaurants           4  \n",
       "Robots               18  \n",
       "Rock                 12  \n",
       "Romance               1  \n",
       "Science Fiction       5  \n",
       "Sculpture             4  \n",
       "Shorts                8  \n",
       "Small Batch           4  \n",
       "Software             27  \n",
       "Sound                26  \n",
       "Space Exploration    10  \n",
       "Spaces                2  \n",
       "Stationery            1  \n",
       "Tabletop Games      742  \n",
       "Technology          152  \n",
       "Television            1  \n",
       "Theater               5  \n",
       "Thrillers             2  \n",
       "Typography            2  \n",
       "Vegan                 5  \n",
       "Video                 1  \n",
       "Video Games         524  \n",
       "Wearables            64  \n",
       "Web                  13  \n",
       "Webcomics            33  \n",
       "Webseries            32  \n",
       "World Music           2  \n",
       "Young Adult           1  \n",
       "Zines                 1  \n",
       "\n",
       "[115 rows x 6 columns]"
      ]
     },
     "execution_count": 27,
     "metadata": {},
     "output_type": "execute_result"
    }
   ],
   "source": [
    "ksdata[[\"amt.pledged\", \"num.backers\", \"category\"]].groupby(\"category\").agg([np.sum, np.mean, len])"
   ]
  },
  {
   "cell_type": "markdown",
   "metadata": {},
   "source": [
    "### Filtering out data with maskers and query\n",
    "\n",
    "Lets assume that we only care about goals that are more than 300K dollars (small deviation on syntax)"
   ]
  },
  {
   "cell_type": "code",
   "execution_count": 28,
   "metadata": {
    "collapsed": false,
    "scrolled": true
   },
   "outputs": [],
   "source": [
    "goal1 = ksdata.goal > 300000"
   ]
  },
  {
   "cell_type": "code",
   "execution_count": 29,
   "metadata": {
    "collapsed": false,
    "scrolled": true
   },
   "outputs": [],
   "source": [
    "goal2 = ksdata['goal'] > 300000"
   ]
  },
  {
   "cell_type": "code",
   "execution_count": 30,
   "metadata": {
    "collapsed": false
   },
   "outputs": [
    {
     "data": {
      "text/plain": [
       "pandas.core.series.Series"
      ]
     },
     "execution_count": 30,
     "metadata": {},
     "output_type": "execute_result"
    }
   ],
   "source": [
    "type(goal1)"
   ]
  },
  {
   "cell_type": "code",
   "execution_count": 32,
   "metadata": {
    "collapsed": false,
    "scrolled": true
   },
   "outputs": [
    {
     "data": {
      "text/plain": [
       "0       True\n",
       "1       True\n",
       "2       True\n",
       "3       True\n",
       "4       True\n",
       "5       True\n",
       "6       True\n",
       "7       True\n",
       "8       True\n",
       "9       True\n",
       "10      True\n",
       "11      True\n",
       "12      True\n",
       "13      True\n",
       "14      True\n",
       "15      True\n",
       "16      True\n",
       "17      True\n",
       "18      True\n",
       "19      True\n",
       "20      True\n",
       "21      True\n",
       "22      True\n",
       "23      True\n",
       "24      True\n",
       "25      True\n",
       "26      True\n",
       "27      True\n",
       "28      True\n",
       "29      True\n",
       "        ... \n",
       "3970    True\n",
       "3971    True\n",
       "3972    True\n",
       "3973    True\n",
       "3974    True\n",
       "3975    True\n",
       "3976    True\n",
       "3977    True\n",
       "3978    True\n",
       "3979    True\n",
       "3980    True\n",
       "3981    True\n",
       "3982    True\n",
       "3983    True\n",
       "3984    True\n",
       "3985    True\n",
       "3986    True\n",
       "3987    True\n",
       "3988    True\n",
       "3989    True\n",
       "3990    True\n",
       "3991    True\n",
       "3992    True\n",
       "3993    True\n",
       "3994    True\n",
       "3995    True\n",
       "3996    True\n",
       "3997    True\n",
       "3998    True\n",
       "3999    True\n",
       "Name: goal, dtype: bool"
      ]
     },
     "execution_count": 32,
     "metadata": {},
     "output_type": "execute_result"
    }
   ],
   "source": [
    "goal1==goal2"
   ]
  },
  {
   "cell_type": "markdown",
   "metadata": {},
   "source": [
    "Because we know the type is a series, we can use a <a href=\"http://pandas.pydata.org/pandas-docs/stable/generated/pandas.Series.equals.html\">pandas series comparison</a>"
   ]
  },
  {
   "cell_type": "code",
   "execution_count": 33,
   "metadata": {
    "collapsed": false,
    "scrolled": false
   },
   "outputs": [
    {
     "data": {
      "text/plain": [
       "True"
      ]
     },
     "execution_count": 33,
     "metadata": {},
     "output_type": "execute_result"
    }
   ],
   "source": [
    "goal1.equals(goal2) "
   ]
  },
  {
   "cell_type": "markdown",
   "metadata": {},
   "source": [
    "What if we have more than one criteria? E.g. goal >1M and currency is in USD"
   ]
  },
  {
   "cell_type": "code",
   "execution_count": 34,
   "metadata": {
    "collapsed": false
   },
   "outputs": [
    {
     "data": {
      "text/plain": [
       "array([False, False, False, ..., False, False, False], dtype=bool)"
      ]
     },
     "execution_count": 34,
     "metadata": {},
     "output_type": "execute_result"
    }
   ],
   "source": [
    "comb_goal = np.all([ksdata.goal > 1000000, ksdata.currency == 'usd'], axis=0)\n",
    "comb_goal"
   ]
  },
  {
   "cell_type": "code",
   "execution_count": 35,
   "metadata": {
    "collapsed": false
   },
   "outputs": [
    {
     "data": {
      "text/plain": [
       "(10, 12)"
      ]
     },
     "execution_count": 35,
     "metadata": {},
     "output_type": "execute_result"
    }
   ],
   "source": [
    "ksdata_goal = ksdata[comb_goal]\n",
    "ksdata_goal.shape"
   ]
  },
  {
   "cell_type": "markdown",
   "metadata": {},
   "source": [
    "Sanity check"
   ]
  },
  {
   "cell_type": "code",
   "execution_count": 36,
   "metadata": {
    "collapsed": false
   },
   "outputs": [
    {
     "data": {
      "text/plain": [
       "(10, 12)"
      ]
     },
     "execution_count": 36,
     "metadata": {},
     "output_type": "execute_result"
    }
   ],
   "source": [
    "ksdata_goal.shape"
   ]
  },
  {
   "cell_type": "code",
   "execution_count": 37,
   "metadata": {
    "collapsed": false
   },
   "outputs": [
    {
     "data": {
      "text/plain": [
       "usd    10\n",
       "Name: currency, dtype: int64"
      ]
     },
     "execution_count": 37,
     "metadata": {},
     "output_type": "execute_result"
    }
   ],
   "source": [
    "ksdata_goal['currency'].value_counts().head(10)"
   ]
  },
  {
   "cell_type": "code",
   "execution_count": 38,
   "metadata": {
    "collapsed": false,
    "scrolled": true
   },
   "outputs": [
    {
     "data": {
      "text/plain": [
       "2000000    5\n",
       "1100000    2\n",
       "1250000    2\n",
       "1500000    1\n",
       "Name: goal, dtype: int64"
      ]
     },
     "execution_count": 38,
     "metadata": {},
     "output_type": "execute_result"
    }
   ],
   "source": [
    "ksdata_goal['goal'].value_counts()"
   ]
  },
  {
   "cell_type": "markdown",
   "metadata": {},
   "source": [
    "Finally, let's see what are the top 10 Kickstarter project categories"
   ]
  },
  {
   "cell_type": "code",
   "execution_count": 39,
   "metadata": {
    "collapsed": false
   },
   "outputs": [
    {
     "data": {
      "text/plain": [
       "Product Design    773\n",
       "Tabletop Games    742\n",
       "Video Games       524\n",
       "Hardware          182\n",
       "Technology        152\n",
       "Documentary       124\n",
       "Gadgets           121\n",
       "Design             99\n",
       "Comics             79\n",
       "Wearables          64\n",
       "Name: category, dtype: int64"
      ]
     },
     "execution_count": 39,
     "metadata": {},
     "output_type": "execute_result"
    }
   ],
   "source": [
    "ksdata['category'].value_counts().head(10)"
   ]
  },
  {
   "cell_type": "code",
   "execution_count": 40,
   "metadata": {
    "collapsed": true
   },
   "outputs": [],
   "source": [
    "pd.value_counts?"
   ]
  },
  {
   "cell_type": "code",
   "execution_count": 42,
   "metadata": {
    "collapsed": false
   },
   "outputs": [
    {
     "data": {
      "text/plain": [
       "Product Design    773\n",
       "Tabletop Games    742\n",
       "Video Games       524\n",
       "Hardware          182\n",
       "Technology        152\n",
       "Documentary       124\n",
       "Gadgets           121\n",
       "Design             99\n",
       "Comics             79\n",
       "Wearables          64\n",
       "Name: category, dtype: int64"
      ]
     },
     "execution_count": 42,
     "metadata": {},
     "output_type": "execute_result"
    }
   ],
   "source": [
    "ksdata['category'].value_counts().head(10)"
   ]
  },
  {
   "cell_type": "code",
   "execution_count": 41,
   "metadata": {
    "collapsed": false
   },
   "outputs": [
    {
     "data": {
      "text/plain": [
       "Television           1\n",
       "Faith                1\n",
       "Jewelry              1\n",
       "Fabrication Tools    1\n",
       "Movie Theaters       1\n",
       "Drama                1\n",
       "Jazz                 1\n",
       "Video                1\n",
       "Academic             1\n",
       "Music Videos         1\n",
       "Name: category, dtype: int64"
      ]
     },
     "execution_count": 41,
     "metadata": {},
     "output_type": "execute_result"
    }
   ],
   "source": [
    "ksdata['category'].value_counts().tail(10)"
   ]
  },
  {
   "cell_type": "markdown",
   "metadata": {},
   "source": [
    "## 2b. plot some pretty graphs"
   ]
  },
  {
   "cell_type": "code",
   "execution_count": 43,
   "metadata": {
    "collapsed": false
   },
   "outputs": [],
   "source": [
    "import warnings # current version of seaborn generates a bunch of warnings that we'll ignore\n",
    "warnings.filterwarnings(\"ignore\")\n",
    "import seaborn as sns\n",
    "import matplotlib.pyplot as plt\n",
    "sns.set(style=\"white\", color_codes=True)\n",
    "\n",
    "# need the following to show output of matplotlib plots\n",
    "%matplotlib inline"
   ]
  },
  {
   "cell_type": "markdown",
   "metadata": {},
   "source": [
    "The first way we can plot things is using the .plot extension from Pandas dataframes"
   ]
  },
  {
   "cell_type": "code",
   "execution_count": 44,
   "metadata": {
    "collapsed": false
   },
   "outputs": [
    {
     "data": {
      "text/plain": [
       "<matplotlib.axes._subplots.AxesSubplot at 0x7fa498855eb8>"
      ]
     },
     "execution_count": 44,
     "metadata": {},
     "output_type": "execute_result"
    },
    {
     "data": {
      "image/png": "[encoded data removed]",
      "text/plain": [
       "<matplotlib.figure.Figure at 0x7fa4a25f20f0>"
      ]
     },
     "metadata": {},
     "output_type": "display_data"
    }
   ],
   "source": [
    "ksdata.plot(kind=\"scatter\", x=\"goal\", y=\"amt.pledged\")"
   ]
  },
  {
   "cell_type": "markdown",
   "metadata": {},
   "source": [
    " We can also use the seaborn library to make a similar plot\n",
    " \n",
    " A seaborn jointplot shows bivariate scatterplots and univariate histograms in the same figure\n"
   ]
  },
  {
   "cell_type": "code",
   "execution_count": 49,
   "metadata": {
    "collapsed": false
   },
   "outputs": [
    {
     "data": {
      "text/plain": [
       "<seaborn.axisgrid.JointGrid at 0x7fa49486ea58>"
      ]
     },
     "execution_count": 49,
     "metadata": {},
     "output_type": "execute_result"
    },
    {
     "data": {
      "image/png": "[encoded data removed]",
      "text/plain": [
       "<matplotlib.figure.Figure at 0x7fa49486e630>"
      ]
     },
     "metadata": {},
     "output_type": "display_data"
    }
   ],
   "source": [
    "sns.jointplot(x=\"goal\", y=\"amt.pledged\", data=ksdata, size=5)"
   ]
  },
  {
   "cell_type": "markdown",
   "metadata": {},
   "source": [
    "One piece of information missing in the plots above is what category each campaign is. We'll use seaborn's FacetGrid to color the scatterplot by category"
   ]
  },
  {
   "cell_type": "code",
   "execution_count": 50,
   "metadata": {
    "collapsed": false
   },
   "outputs": [
    {
     "data": {
      "text/plain": [
       "<seaborn.axisgrid.FacetGrid at 0x7fa4927c92e8>"
      ]
     },
     "execution_count": 50,
     "metadata": {},
     "output_type": "execute_result"
    },
    {
     "data": {
      "image/png": "[encoded data removed]",
      "text/plain": [
       "<matplotlib.figure.Figure at 0x7fa4928ebf98>"
      ]
     },
     "metadata": {},
     "output_type": "display_data"
    }
   ],
   "source": [
    "sns.FacetGrid(ksdata, hue=\"category\", size=5).map(plt.scatter, \"goal\", \"amt.pledged\").add_legend()"
   ]
  },
  {
   "cell_type": "markdown",
   "metadata": {},
   "source": [
    "### This is a bit overkill and difficult to make sense of - let's plot for top 5 and call the rest 'Other'"
   ]
  },
  {
   "cell_type": "markdown",
   "metadata": {},
   "source": [
    "First, get the top 5 highest categories"
   ]
  },
  {
   "cell_type": "code",
   "execution_count": 51,
   "metadata": {
    "collapsed": false,
    "scrolled": true
   },
   "outputs": [
    {
     "data": {
      "text/plain": [
       "Product Design    773\n",
       "Tabletop Games    742\n",
       "Video Games       524\n",
       "Hardware          182\n",
       "Technology        152\n",
       "Name: category, dtype: int64"
      ]
     },
     "execution_count": 51,
     "metadata": {},
     "output_type": "execute_result"
    }
   ],
   "source": [
    "ksdata['category'].value_counts().head()"
   ]
  },
  {
   "cell_type": "markdown",
   "metadata": {},
   "source": [
    "Get their names only"
   ]
  },
  {
   "cell_type": "code",
   "execution_count": 52,
   "metadata": {
    "collapsed": false
   },
   "outputs": [
    {
     "data": {
      "text/plain": [
       "['Product Design', 'Tabletop Games', 'Video Games', 'Hardware', 'Technology']"
      ]
     },
     "execution_count": 52,
     "metadata": {},
     "output_type": "execute_result"
    }
   ],
   "source": [
    "top5categories = list(ksdata['category'].value_counts().head().keys())\n",
    "top5categories"
   ]
  },
  {
   "cell_type": "markdown",
   "metadata": {
    "collapsed": false
   },
   "source": [
    "Remember, ksdata['category'] is column that contains all categories in original dataframe"
   ]
  },
  {
   "cell_type": "markdown",
   "metadata": {},
   "source": [
    "Now get result of seeing if the categories in the dataframe are in the top 5 defined ones"
   ]
  },
  {
   "cell_type": "code",
   "execution_count": 53,
   "metadata": {
    "collapsed": false
   },
   "outputs": [
    {
     "data": {
      "text/plain": [
       "0     True\n",
       "1     True\n",
       "2    False\n",
       "3    False\n",
       "4     True\n",
       "Name: category, dtype: bool"
      ]
     },
     "execution_count": 53,
     "metadata": {},
     "output_type": "execute_result"
    }
   ],
   "source": [
    "ksdata['category'].isin(top5categories).head()"
   ]
  },
  {
   "cell_type": "markdown",
   "metadata": {},
   "source": [
    "Define new column category.short that keeps the category name if it is in the top 5, but if not is marked as 'Other'"
   ]
  },
  {
   "cell_type": "code",
   "execution_count": 54,
   "metadata": {
    "collapsed": false
   },
   "outputs": [],
   "source": [
    "ksdata['category.short']=np.where(ksdata['category'].isin(top5categories), ksdata['category'], 'Other')"
   ]
  },
  {
   "cell_type": "markdown",
   "metadata": {},
   "source": [
    "Check that it worked!"
   ]
  },
  {
   "cell_type": "code",
   "execution_count": 55,
   "metadata": {
    "collapsed": false,
    "scrolled": true
   },
   "outputs": [
    {
     "data": {
      "text/html": [
       "<div>\n",
       "<table border=\"1\" class=\"dataframe\">\n",
       "  <thead>\n",
       "    <tr style=\"text-align: right;\">\n",
       "      <th></th>\n",
       "      <th>category</th>\n",
       "      <th>category.short</th>\n",
       "    </tr>\n",
       "  </thead>\n",
       "  <tbody>\n",
       "    <tr>\n",
       "      <th>0</th>\n",
       "      <td>Tabletop Games</td>\n",
       "      <td>Tabletop Games</td>\n",
       "    </tr>\n",
       "    <tr>\n",
       "      <th>1</th>\n",
       "      <td>Product Design</td>\n",
       "      <td>Product Design</td>\n",
       "    </tr>\n",
       "    <tr>\n",
       "      <th>2</th>\n",
       "      <td>Web</td>\n",
       "      <td>Other</td>\n",
       "    </tr>\n",
       "    <tr>\n",
       "      <th>3</th>\n",
       "      <td>Narrative Film</td>\n",
       "      <td>Other</td>\n",
       "    </tr>\n",
       "    <tr>\n",
       "      <th>4</th>\n",
       "      <td>Video Games</td>\n",
       "      <td>Video Games</td>\n",
       "    </tr>\n",
       "  </tbody>\n",
       "</table>\n",
       "</div>"
      ],
      "text/plain": [
       "         category  category.short\n",
       "0  Tabletop Games  Tabletop Games\n",
       "1  Product Design  Product Design\n",
       "2             Web           Other\n",
       "3  Narrative Film           Other\n",
       "4     Video Games     Video Games"
      ]
     },
     "execution_count": 55,
     "metadata": {},
     "output_type": "execute_result"
    }
   ],
   "source": [
    "ksdata[['category','category.short']].head()"
   ]
  },
  {
   "cell_type": "markdown",
   "metadata": {},
   "source": [
    "Finally, let's try again with category.short instead of category"
   ]
  },
  {
   "cell_type": "code",
   "execution_count": 56,
   "metadata": {
    "collapsed": false,
    "scrolled": false
   },
   "outputs": [
    {
     "data": {
      "text/plain": [
       "<seaborn.axisgrid.FacetGrid at 0x7fa49254f5f8>"
      ]
     },
     "execution_count": 56,
     "metadata": {},
     "output_type": "execute_result"
    },
    {
     "data": {
      "image/png": "[encoded data removed]",
      "text/plain": [
       "<matplotlib.figure.Figure at 0x7fa49254f550>"
      ]
     },
     "metadata": {},
     "output_type": "display_data"
    }
   ],
   "source": [
    "sns.FacetGrid(ksdata, hue=\"category.short\", size=5) \\\n",
    "   .map(plt.scatter, \"goal\", \"amt.pledged\") \\\n",
    "   .add_legend()"
   ]
  },
  {
   "cell_type": "markdown",
   "metadata": {},
   "source": [
    "Let's change colour - <a href=\"http://matplotlib.org/users/colormaps.html\">full list of palette sets</a>"
   ]
  },
  {
   "cell_type": "code",
   "execution_count": 57,
   "metadata": {
    "collapsed": false
   },
   "outputs": [
    {
     "data": {
      "text/plain": [
       "<seaborn.axisgrid.FacetGrid at 0x7fa49486e390>"
      ]
     },
     "execution_count": 57,
     "metadata": {},
     "output_type": "execute_result"
    },
    {
     "data": {
      "image/png": "[encoded data removed]",
      "text/plain": [
       "<matplotlib.figure.Figure at 0x7fa492790320>"
      ]
     },
     "metadata": {},
     "output_type": "display_data"
    }
   ],
   "source": [
    "sns.FacetGrid(ksdata, hue=\"category.short\", palette=\"Set1\", size=5) \\\n",
    "   .map(plt.scatter, \"goal\", \"amt.pledged\") \\\n",
    "   .add_legend().set(xlim=(0, None)).set(ylim=(0, None))"
   ]
  },
  {
   "cell_type": "markdown",
   "metadata": {},
   "source": [
    "Main insights: Video games looks like they tend to overestimate goal, whereas Product Design is more conservative.\n",
    "\n",
    "Nice follow-up analysis - WHY? But that's for another day :)"
   ]
  },
  {
   "cell_type": "markdown",
   "metadata": {},
   "source": [
    "### Is this the end?\n",
    "\n",
    "Don't forget to <br>\n",
    "jupyter nbconvert --to html 2016-12-03-SL-Intro_To_Jupyter_Part2_Data_and_Graphs.ipynb"
   ]
  },
  {
   "cell_type": "markdown",
   "metadata": {},
   "source": [
    "-------------------------------------\n",
    "## If you want to know more\n",
    "- Where it's all about: https://jupyter.org/\n",
    "- A github with more formal set of tutorials: https://github.com/gte620v/PythonTutorialWithJupyter\n",
    "- A gallery of interesting Notebooks: http://nb.bianp.net/sort/views/\n",
    "- More kaggle datasets, many with notebooks: https://www.kaggle.com/kernels\n",
    "-------------------------------------"
   ]
  }
 ],
 "metadata": {
  "kernelspec": {
   "display_name": "Python 3",
   "language": "python",
   "name": "python3"
  },
  "language_info": {
   "codemirror_mode": {
    "name": "ipython",
    "version": 3
   },
   "file_extension": ".py",
   "mimetype": "text/x-python",
   "name": "python",
   "nbconvert_exporter": "python",
   "pygments_lexer": "ipython3",
   "version": "3.5.2"
  }
 },
 "nbformat": 4,
 "nbformat_minor": 1
}
